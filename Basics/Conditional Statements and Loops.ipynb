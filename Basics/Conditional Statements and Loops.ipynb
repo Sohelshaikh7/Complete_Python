{
 "cells": [
  {
   "cell_type": "markdown",
   "metadata": {},
   "source": [
    "# Flow Controls/ Conditional Statements"
   ]
  },
  {
   "cell_type": "markdown",
   "metadata": {},
   "source": [
    "### 1) if statement"
   ]
  },
  {
   "cell_type": "code",
   "execution_count": 1,
   "metadata": {},
   "outputs": [],
   "source": [
    "# Syntax:\n",
    " \n",
    "# if test expression:\n",
    "#    body of if"
   ]
  },
  {
   "cell_type": "code",
   "execution_count": 1,
   "metadata": {},
   "outputs": [
    {
     "name": "stdout",
     "output_type": "stream",
     "text": [
      "This condition is True\n"
     ]
    }
   ],
   "source": [
    "# If the given condition is True\n",
    "\n",
    "i = 10\n",
    "if i > 5:\n",
    "    print(\"This condition is True\")"
   ]
  },
  {
   "cell_type": "code",
   "execution_count": 2,
   "metadata": {},
   "outputs": [],
   "source": [
    "# What if!! the given condition is False\n",
    "\n",
    "i = 10\n",
    "if i < 5:\n",
    "    print(\"This condition is True\")\n",
    "\n",
    "# The code does't run as it doesn't enters the loop, \n",
    "# because the condition is False "
   ]
  },
  {
   "cell_type": "code",
   "execution_count": 3,
   "metadata": {},
   "outputs": [
    {
     "name": "stdout",
     "output_type": "stream",
     "text": [
      "3 is a positive number.\n",
      "This will print always.\n"
     ]
    }
   ],
   "source": [
    "num = 3\n",
    "\n",
    "if num > 0:\n",
    "    print(num, \"is a positive number.\")\n",
    "print(\"This will print always.\")\n",
    "\n",
    "# If the number is positive,we print an appropriate message"
   ]
  },
  {
   "cell_type": "code",
   "execution_count": 4,
   "metadata": {},
   "outputs": [
    {
     "name": "stdout",
     "output_type": "stream",
     "text": [
      "This will print always.\n"
     ]
    }
   ],
   "source": [
    "num = -1\n",
    "\n",
    "if num > 0:\n",
    "    print(num, \"is a positive number.\")\n",
    "print(\"This will print always.\")"
   ]
  },
  {
   "cell_type": "code",
   "execution_count": 7,
   "metadata": {},
   "outputs": [
    {
     "name": "stdout",
     "output_type": "stream",
     "text": [
      "-1 is a negative number.\n",
      "This will print always.\n"
     ]
    }
   ],
   "source": [
    "num = -1\n",
    "\n",
    "if num < 0:\n",
    "    print(num, \"is a negative number.\")\n",
    "print(\"This will print always.\")"
   ]
  },
  {
   "cell_type": "code",
   "execution_count": 9,
   "metadata": {},
   "outputs": [
    {
     "name": "stdout",
     "output_type": "stream",
     "text": [
      "0 is equal to Zero.\n",
      "This will print always.\n"
     ]
    }
   ],
   "source": [
    "num = 0\n",
    "\n",
    "if num == 0:\n",
    "    print(num, \"is equal to Zero.\")\n",
    "print(\"This will print always.\")"
   ]
  },
  {
   "cell_type": "code",
   "execution_count": 13,
   "metadata": {},
   "outputs": [],
   "source": [
    "# When you don't want to execute anything,\n",
    "# Simply write pass in the body of the Conditional Statements\n",
    "\n",
    "i = 10\n",
    "if i > 5:\n",
    "    pass"
   ]
  },
  {
   "cell_type": "code",
   "execution_count": 14,
   "metadata": {},
   "outputs": [
    {
     "ename": "SyntaxError",
     "evalue": "unexpected EOF while parsing (<ipython-input-14-427a39c58c57>, line 5)",
     "output_type": "error",
     "traceback": [
      "\u001b[1;36m  File \u001b[1;32m\"<ipython-input-14-427a39c58c57>\"\u001b[1;36m, line \u001b[1;32m5\u001b[0m\n\u001b[1;33m    if i > 5:\u001b[0m\n\u001b[1;37m             ^\u001b[0m\n\u001b[1;31mSyntaxError\u001b[0m\u001b[1;31m:\u001b[0m unexpected EOF while parsing\n"
     ]
    }
   ],
   "source": [
    "# If you don't write pass and keep the body empty you will get a SyntaxError: invalid syntax\n",
    "\n",
    "\n",
    "# i = 10\n",
    "# if i > 5:"
   ]
  },
  {
   "cell_type": "markdown",
   "metadata": {},
   "source": [
    "### 2) if...else"
   ]
  },
  {
   "cell_type": "code",
   "execution_count": 9,
   "metadata": {},
   "outputs": [],
   "source": [
    "#Syntax:\n",
    "\n",
    "#if test expression:\n",
    "#    Body of if\n",
    "#else:\n",
    "#    Body of else"
   ]
  },
  {
   "cell_type": "code",
   "execution_count": 25,
   "metadata": {},
   "outputs": [
    {
     "name": "stdout",
     "output_type": "stream",
     "text": [
      "This is a valid statement for else\n"
     ]
    }
   ],
   "source": [
    "# else is used when we want to perform a default action\n",
    "# when all the other conditions have failed\n",
    "\n",
    "i = 10\n",
    "if i < 5:\n",
    "    print(\"This is a valid statement when our 'if' condition is True\")\n",
    "else:\n",
    "    print(\"This is a valid statement for else\")"
   ]
  },
  {
   "cell_type": "code",
   "execution_count": 26,
   "metadata": {},
   "outputs": [
    {
     "name": "stdout",
     "output_type": "stream",
     "text": [
      "This is a valid statement when our 'if' condition is True\n"
     ]
    }
   ],
   "source": [
    "i = 10\n",
    "if i > 5:\n",
    "    print(\"This is a valid statement when our 'if' condition is True\")\n",
    "else:\n",
    "    print(\"This is a valid statement for else\")"
   ]
  },
  {
   "cell_type": "code",
   "execution_count": 27,
   "metadata": {},
   "outputs": [
    {
     "name": "stdout",
     "output_type": "stream",
     "text": [
      "Positive or Zero\n"
     ]
    }
   ],
   "source": [
    "num = 3\n",
    "\n",
    "if num >= 0:\n",
    "    print(\"Positive or Zero\")\n",
    "else:\n",
    "    print(\"Negative number\")\n",
    "\n",
    "# Program checks if the number is positive or negative, and displays an appropriate message"
   ]
  },
  {
   "cell_type": "code",
   "execution_count": 28,
   "metadata": {},
   "outputs": [
    {
     "name": "stdout",
     "output_type": "stream",
     "text": [
      "Negative number\n"
     ]
    }
   ],
   "source": [
    "num = -5\n",
    "\n",
    "if num > 0:\n",
    "    print(\"Positive or Zero\")\n",
    "else:\n",
    "    print(\"Negative number\")"
   ]
  },
  {
   "cell_type": "code",
   "execution_count": 29,
   "metadata": {},
   "outputs": [
    {
     "name": "stdout",
     "output_type": "stream",
     "text": [
      "Positive or Zero\n"
     ]
    }
   ],
   "source": [
    "num = 0\n",
    "\n",
    "if num >= 0:\n",
    "    print(\"Positive or Zero\")\n",
    "else:\n",
    "    print(\"Negative number\")"
   ]
  },
  {
   "cell_type": "markdown",
   "metadata": {},
   "source": [
    "### 3) if...elif...else"
   ]
  },
  {
   "cell_type": "code",
   "execution_count": 30,
   "metadata": {},
   "outputs": [],
   "source": [
    "# Syntax:\n",
    "\n",
    "#if test expression:\n",
    "#    Body of if\n",
    "#elif test expression\n",
    "#     Body of elif\n",
    "#else:\n",
    "#    Body of else"
   ]
  },
  {
   "cell_type": "code",
   "execution_count": 39,
   "metadata": {},
   "outputs": [
    {
     "name": "stdout",
     "output_type": "stream",
     "text": [
      "This is a valid statement in elif\n"
     ]
    }
   ],
   "source": [
    "# Multiple conditions\n",
    "# using if, elif\n",
    "\n",
    "i = 10\n",
    "if i < 5:\n",
    "    print(\"This condition is True\") \n",
    "elif i == 10:\n",
    "    print(\"This is a valid statement in elif\")"
   ]
  },
  {
   "cell_type": "code",
   "execution_count": 41,
   "metadata": {},
   "outputs": [
    {
     "name": "stdout",
     "output_type": "stream",
     "text": [
      "Positive number\n"
     ]
    }
   ],
   "source": [
    "num = 15\n",
    "\n",
    "if num > 0:\n",
    "    print(\"Positive number\")\n",
    "elif num == 0:\n",
    "    print(\"Zero\")\n",
    "else:\n",
    "    print(\"Negative number\")\n",
    "\n",
    "# In this program, we check if the number is positive or negative or zero and display an appropriate message"
   ]
  },
  {
   "cell_type": "code",
   "execution_count": 43,
   "metadata": {},
   "outputs": [
    {
     "name": "stdout",
     "output_type": "stream",
     "text": [
      "Zero\n"
     ]
    }
   ],
   "source": [
    "num = 0\n",
    "\n",
    "if num > 0:\n",
    "    print(\"Positive number\")\n",
    "elif num == 0:\n",
    "    print(\"Zero\")\n",
    "else:\n",
    "    print(\"Negative number\")"
   ]
  },
  {
   "cell_type": "code",
   "execution_count": 44,
   "metadata": {},
   "outputs": [
    {
     "name": "stdout",
     "output_type": "stream",
     "text": [
      "Negative number\n"
     ]
    }
   ],
   "source": [
    "num = -4.5\n",
    "\n",
    "if num > 0:\n",
    "    print(\"Positive number\")\n",
    "elif num == 0:\n",
    "    print(\"Zero\")\n",
    "else:\n",
    "    print(\"Negative number\")"
   ]
  },
  {
   "cell_type": "markdown",
   "metadata": {},
   "source": [
    "### *NOTE:*\n",
    "\n",
    "#### *Multiple if's means your code would go and check all the if conditions, where as in case of elif, if one if condition satisfies it would not check other conditions..*"
   ]
  },
  {
   "cell_type": "markdown",
   "metadata": {},
   "source": [
    "### 4) Nested if"
   ]
  },
  {
   "cell_type": "code",
   "execution_count": 52,
   "metadata": {},
   "outputs": [
    {
     "name": "stdout",
     "output_type": "stream",
     "text": [
      "This will give me a default statement\n"
     ]
    }
   ],
   "source": [
    "# Multiple conditions\n",
    "# using if, elif, else\n",
    "\n",
    "i = 10\n",
    "if i < 5:\n",
    "    print(\"This condition is True\") \n",
    "elif i < 8:\n",
    "    print(\"This is a valid statement in elif\")\n",
    "else:\n",
    "    print(\"This will give me a default statement\")"
   ]
  },
  {
   "cell_type": "code",
   "execution_count": 54,
   "metadata": {},
   "outputs": [
    {
     "name": "stdout",
     "output_type": "stream",
     "text": [
      "Enter a number: 10\n",
      "Positive number\n"
     ]
    }
   ],
   "source": [
    "# In this program, we input a number check if the number is positive or negative or zero and display an appropriate message\n",
    "# This time we use nested if\n",
    "\n",
    "num = int(input(\"Enter a number: \"))\n",
    "if num >= 0:\n",
    "    if num == 0:\n",
    "        print(\"Zero\")\n",
    "    else:\n",
    "        print(\"Positive number\")\n",
    "else:\n",
    "    print(\"Negative number\")"
   ]
  },
  {
   "cell_type": "code",
   "execution_count": 55,
   "metadata": {},
   "outputs": [
    {
     "name": "stdout",
     "output_type": "stream",
     "text": [
      "Enter a number: 0\n",
      "Zero\n"
     ]
    }
   ],
   "source": [
    "num = int(input(\"Enter a number: \"))\n",
    "if num >= 0:\n",
    "    if num == 0:\n",
    "        print(\"Zero\")\n",
    "    else:\n",
    "        print(\"Positive number\")\n",
    "else:\n",
    "    print(\"Negative number\")"
   ]
  },
  {
   "cell_type": "code",
   "execution_count": 56,
   "metadata": {},
   "outputs": [
    {
     "name": "stdout",
     "output_type": "stream",
     "text": [
      "Enter a number: -11\n",
      "Negative number\n"
     ]
    }
   ],
   "source": [
    "num = int(input(\"Enter a number: \"))\n",
    "if num >= 0:\n",
    "    if num == 0:\n",
    "        print(\"Zero\")\n",
    "    else:\n",
    "        print(\"Positive number\")\n",
    "else:\n",
    "    print(\"Negative number\")"
   ]
  },
  {
   "cell_type": "code",
   "execution_count": 63,
   "metadata": {},
   "outputs": [
    {
     "name": "stdout",
     "output_type": "stream",
     "text": [
      "This condition is True\n"
     ]
    }
   ],
   "source": [
    "# Multiple conditions\n",
    "# using and or not etc...\n",
    "\n",
    "i = 10\n",
    "if (i > 5) & (i == 10):\n",
    "    print(\"This condition is True\") \n",
    "elif i < 8:\n",
    "    print(\"This is a valid statement in elif\")\n",
    "else:\n",
    "    print(\"This will give me a default statement\")"
   ]
  },
  {
   "cell_type": "code",
   "execution_count": 64,
   "metadata": {},
   "outputs": [
    {
     "name": "stdout",
     "output_type": "stream",
     "text": [
      "This will give me a default statement\n"
     ]
    }
   ],
   "source": [
    "# and requires both the given conditions to be True\n",
    "\n",
    "i = 10\n",
    "if (i < 5) & (i == 10):\n",
    "    print(\"This condition is True\") \n",
    "elif i < 8:\n",
    "    print(\"This is a valid statement in elif\")\n",
    "else:\n",
    "    print(\"This will give me a default statement\")"
   ]
  },
  {
   "cell_type": "code",
   "execution_count": 65,
   "metadata": {},
   "outputs": [
    {
     "name": "stdout",
     "output_type": "stream",
     "text": [
      "This condition is True\n"
     ]
    }
   ],
   "source": [
    "# or requires only one of the given conditions to be True\n",
    "\n",
    "i = 10\n",
    "if (i < 5) | (i == 10):\n",
    "    print(\"This condition is True\") \n",
    "elif i < 8:\n",
    "    print(\"This is a valid statement in elif\")\n",
    "else:\n",
    "    print(\"This will give me a default statement\")"
   ]
  },
  {
   "cell_type": "code",
   "execution_count": 67,
   "metadata": {},
   "outputs": [
    {
     "name": "stdout",
     "output_type": "stream",
     "text": [
      "This is a default condition\n"
     ]
    }
   ],
   "source": [
    "i = 10\n",
    "s = \"Sohel\"\n",
    "if i == 10:\n",
    "    if type(s) == int:\n",
    "        print(\"This is my name\")\n",
    "    else:\n",
    "        print(\"This is a default condition\")\n",
    "else:\n",
    "    print(\"This is a default statement for the outer if block\")"
   ]
  },
  {
   "cell_type": "code",
   "execution_count": 70,
   "metadata": {},
   "outputs": [
    {
     "name": "stdout",
     "output_type": "stream",
     "text": [
      "This is my name\n"
     ]
    }
   ],
   "source": [
    "# nested statements\n",
    "\n",
    "i = 10\n",
    "s = \"Sohel\"\n",
    "if i == 10:\n",
    "    if type(s) == str:\n",
    "        print(\"This is my name\")\n",
    "    else:\n",
    "        print(\"This is a default condition\")\n",
    "else:\n",
    "    print(\"This is a default statement for the outer if block\")"
   ]
  },
  {
   "cell_type": "code",
   "execution_count": 71,
   "metadata": {},
   "outputs": [
    {
     "name": "stdout",
     "output_type": "stream",
     "text": [
      "This is a default statement for the outer if block\n"
     ]
    }
   ],
   "source": [
    "i = 20\n",
    "s = \"Sohel\"\n",
    "if i == 10:\n",
    "    if type(s) == str:\n",
    "        print(\"This is my name\")\n",
    "    else:\n",
    "        print(\"This is a default condition\")\n",
    "else:\n",
    "    print(\"This is a default statement for the outer if block\")"
   ]
  },
  {
   "cell_type": "markdown",
   "metadata": {},
   "source": [
    "###  *Practice Problems"
   ]
  },
  {
   "cell_type": "code",
   "execution_count": 75,
   "metadata": {},
   "outputs": [
    {
     "name": "stdout",
     "output_type": "stream",
     "text": [
      "Enter a number: 88\n",
      "88 is an Even number\n"
     ]
    }
   ],
   "source": [
    "## 1) Number is Odd or Even \n",
    "\n",
    "num = int(input(\"Enter a number: \"))\n",
    "if num % 2 == 0:\n",
    "    print(num, \"is an Even number\")\n",
    "else:\n",
    "    print(num,\"is an Odd number\")"
   ]
  },
  {
   "cell_type": "code",
   "execution_count": 77,
   "metadata": {},
   "outputs": [
    {
     "name": "stdout",
     "output_type": "stream",
     "text": [
      "Enter a number: 101\n",
      "Enter a number: 202\n",
      "Enter a number: 303\n",
      "303 is the Highest number among the given 3 numbers\n"
     ]
    }
   ],
   "source": [
    "## 2) Highest number from 3 numbers\n",
    "\n",
    "num1 = int(input(\"Enter a number: \"))\n",
    "num2 = int(input(\"Enter a number: \"))\n",
    "num3 = int(input(\"Enter a number: \"))\n",
    "\n",
    "if num1 > num2 and num1 > num3:\n",
    "    print(num1, \"is the Highest number among the given 3 numbers\")\n",
    "elif num2 > num1 and num2 > num3:\n",
    "    print(num2, \"is the Highest number among the given 3 numbers\")\n",
    "else:\n",
    "    print(num3, \"is the Highest number among the given 3 numbers\")"
   ]
  },
  {
   "cell_type": "code",
   "execution_count": 79,
   "metadata": {},
   "outputs": [
    {
     "name": "stdout",
     "output_type": "stream",
     "text": [
      "Enter a year: 2020\n",
      "2020 is a Leap Year\n"
     ]
    }
   ],
   "source": [
    "## 3) Leap Year\n",
    "\n",
    "year = int(input(\"Enter a year: \"))\n",
    "if year % 4 == 0 and year % 100 != 0:\n",
    "    print(year, \"is a Leap Year\")\n",
    "elif year % 100 == 0:\n",
    "    print(year, \"is not a Leap Year\")\n",
    "elif year % 400 ==0:\n",
    "    print(year, \"is a Leap Year\")\n",
    "else:\n",
    "    print(year, \"is not a Leap Year\")"
   ]
  },
  {
   "cell_type": "markdown",
   "metadata": {},
   "source": [
    "### Usage of placeholders"
   ]
  },
  {
   "cell_type": "markdown",
   "metadata": {},
   "source": [
    "* #### Use %d for integers, %s for strings and %f for float"
   ]
  },
  {
   "cell_type": "code",
   "execution_count": 80,
   "metadata": {},
   "outputs": [
    {
     "name": "stdout",
     "output_type": "stream",
     "text": [
      "Joe is 40 years old\n"
     ]
    }
   ],
   "source": [
    "x = 40\n",
    "print ('%s is %d years old' % ('Joe', x))"
   ]
  },
  {
   "cell_type": "code",
   "execution_count": 82,
   "metadata": {},
   "outputs": [
    {
     "name": "stdout",
     "output_type": "stream",
     "text": [
      "My name is Sohel Shaikh and my age is 23\n"
     ]
    }
   ],
   "source": [
    "fname = \"Sohel\"\n",
    "lname = \"Shaikh\"\n",
    "age = 23\n",
    "\n",
    "print(\"My name is %s %s and my age is %d\" % (fname,lname,age))"
   ]
  },
  {
   "cell_type": "code",
   "execution_count": 87,
   "metadata": {},
   "outputs": [
    {
     "name": "stdout",
     "output_type": "stream",
     "text": [
      "Enter a number: 55\n",
      "Enter a number: 64\n",
      "Enter a number: 82\n",
      "x is 55\n"
     ]
    }
   ],
   "source": [
    "x = int(input(\"Enter a number: \"))\n",
    "y = int(input(\"Enter a number: \"))\n",
    "z = int(input(\"Enter a number: \"))\n",
    "\n",
    "if ( x < 5):\n",
    "    print(\"x is less than five\")\n",
    "elif(y > x and (y%5)==0):\n",
    "    print('%d is greater than %d' % (y, x))\n",
    "else:\n",
    "    print(\"x is %d\" %(x))"
   ]
  },
  {
   "cell_type": "markdown",
   "metadata": {},
   "source": [
    "# Loops"
   ]
  },
  {
   "cell_type": "markdown",
   "metadata": {},
   "source": [
    "## There are two type of loops in Python:\n",
    "- While Loops\n",
    "- For Loops "
   ]
  },
  {
   "cell_type": "code",
   "execution_count": 99,
   "metadata": {},
   "outputs": [
    {
     "name": "stdout",
     "output_type": "stream",
     "text": [
      "range(0, 3)\n",
      "\n",
      "\n",
      "[0, 1, 2]\n"
     ]
    }
   ],
   "source": [
    "# Let's understand Range function first \n",
    "# It is mostly used with the loops \n",
    "\n",
    "# Syntax:\n",
    "# range(start, stop, step)\n",
    "\n",
    "print(range(0, 3)) # includes the start value but excludes the stop value\n",
    "\n",
    "print('\\n')\n",
    "\n",
    "print(list(range(0, 3))) # printing the range function output"
   ]
  },
  {
   "cell_type": "code",
   "execution_count": 106,
   "metadata": {},
   "outputs": [
    {
     "name": "stdout",
     "output_type": "stream",
     "text": [
      "range(0, 3)\n",
      "\n",
      "\n",
      "[0, 1, 2]\n"
     ]
    }
   ],
   "source": [
    "print(range(3)) # default start value is 0\n",
    "\n",
    "print('\\n')\n",
    "\n",
    "print(list(range(3))) # printing the range function output"
   ]
  },
  {
   "cell_type": "code",
   "execution_count": 107,
   "metadata": {},
   "outputs": [
    {
     "name": "stdout",
     "output_type": "stream",
     "text": [
      "range(0, 10, 2)\n",
      "\n",
      "\n",
      "[0, 2, 4, 6, 8]\n"
     ]
    }
   ],
   "source": [
    "print(range(0, 10, 2)) # third argument is the step value\n",
    "\n",
    "print('\\n')\n",
    "\n",
    "print(list(range(0, 10, 2))) # printing the range function output"
   ]
  },
  {
   "cell_type": "markdown",
   "metadata": {},
   "source": [
    "### 1) While loop\n",
    "\n",
    "A while loop statement in Python programming language repeatedly executes a target statement as long as a given condition is true."
   ]
  },
  {
   "cell_type": "code",
   "execution_count": 109,
   "metadata": {},
   "outputs": [],
   "source": [
    "# Syntax:\n",
    "\n",
    "# while test expression:\n",
    "#    statement(s)"
   ]
  },
  {
   "cell_type": "code",
   "execution_count": 112,
   "metadata": {},
   "outputs": [],
   "source": [
    "# DO NOT RUN THIS\n",
    "# IT WILL RUN INTO INFINITE LOOP AS THE GIVEN CONDITION WILL ALWAYS BE TRUE\n",
    "\n",
    "# i = 1\n",
    "\n",
    "# while(i<5):\n",
    "#     print(i)"
   ]
  },
  {
   "cell_type": "code",
   "execution_count": 114,
   "metadata": {},
   "outputs": [
    {
     "name": "stdout",
     "output_type": "stream",
     "text": [
      "1\n",
      "2\n",
      "3\n",
      "4\n"
     ]
    }
   ],
   "source": [
    "i = 1\n",
    "\n",
    "while(i<5):\n",
    "    print(i)\n",
    "    i = i+1"
   ]
  },
  {
   "cell_type": "code",
   "execution_count": 116,
   "metadata": {},
   "outputs": [
    {
     "name": "stdout",
     "output_type": "stream",
     "text": [
      "0\n",
      "1\n",
      "2\n",
      "3\n",
      "4\n",
      "5\n",
      "6\n",
      "7\n",
      "8\n",
      "9\n",
      "10\n"
     ]
    }
   ],
   "source": [
    "i = 0\n",
    "\n",
    "while i <= 10:\n",
    "    print(i)\n",
    "    i += 1"
   ]
  },
  {
   "cell_type": "code",
   "execution_count": 117,
   "metadata": {},
   "outputs": [
    {
     "name": "stdout",
     "output_type": "stream",
     "text": [
      "The count is: 9\n",
      "The count is: 8\n",
      "The count is: 7\n",
      "The count is: 6\n",
      "The count is: 5\n",
      "The count is: 4\n",
      "The count is: 3\n",
      "The count is: 2\n",
      "The count is: 1\n"
     ]
    }
   ],
   "source": [
    "# Program to build a counter\n",
    "\n",
    "count = 9\n",
    "\n",
    "while count > 0:\n",
    "    print(\"The count is:\", count)\n",
    "    count = count - 1"
   ]
  },
  {
   "cell_type": "code",
   "execution_count": 118,
   "metadata": {},
   "outputs": [
    {
     "name": "stdout",
     "output_type": "stream",
     "text": [
      "The count is: 0\n",
      "The count is: 1\n",
      "The count is: 2\n",
      "The count is: 3\n",
      "The count is: 4\n",
      "The count is: 5\n",
      "The count is: 6\n",
      "The count is: 7\n",
      "The count is: 8\n",
      "The count is: 9\n",
      "The count is: 10\n"
     ]
    }
   ],
   "source": [
    "# Program to build a counter\n",
    "\n",
    "count = 0\n",
    "\n",
    "while count <= 10:\n",
    "    print(\"The count is:\", count)\n",
    "    count = count + 1"
   ]
  },
  {
   "cell_type": "code",
   "execution_count": 91,
   "metadata": {},
   "outputs": [
    {
     "name": "stdout",
     "output_type": "stream",
     "text": [
      "0\n",
      "Happy New Year!\n",
      "1\n",
      "Happy New Year!\n",
      "2\n",
      "Happy New Year!\n",
      "3\n",
      "Happy New Year!\n",
      "4\n",
      "Happy New Year!\n",
      "5\n",
      "Happy New Year!\n",
      "6\n",
      "Happy New Year!\n",
      "7\n",
      "Happy New Year!\n",
      "8\n",
      "Happy New Year!\n",
      "9\n",
      "Happy New Year!\n",
      "10\n",
      "Happy New Year!\n"
     ]
    }
   ],
   "source": [
    "count = 0\n",
    "\n",
    "while count <= 10:\n",
    "    print(count)\n",
    "    print(\"Happy New Year!\")\n",
    "    count = count + 1"
   ]
  },
  {
   "cell_type": "code",
   "execution_count": 124,
   "metadata": {},
   "outputs": [
    {
     "name": "stdout",
     "output_type": "stream",
     "text": [
      "0 ) Happy New Year!\n",
      "1 ) Happy New Year!\n",
      "2 ) Happy New Year!\n",
      "3 ) Happy New Year!\n",
      "4 ) Happy New Year!\n",
      "5 ) Happy New Year!\n",
      "6 ) Happy New Year!\n",
      "7 ) Happy New Year!\n",
      "8 ) Happy New Year!\n",
      "9 ) Happy New Year!\n",
      "10 ) Happy New Year!\n"
     ]
    }
   ],
   "source": [
    "count = 0\n",
    "\n",
    "while count <= 10:\n",
    "    print(count,')',\"Happy New Year!\")\n",
    "    count = count + 1"
   ]
  },
  {
   "cell_type": "code",
   "execution_count": 133,
   "metadata": {},
   "outputs": [
    {
     "name": "stdout",
     "output_type": "stream",
     "text": [
      "Enter n: 5\n",
      "The sum is 15\n"
     ]
    }
   ],
   "source": [
    "# Program to add n natural numbers\n",
    "\n",
    "n = int(input(\"Enter n: \"))\n",
    "\n",
    "# initialize sum and counter\n",
    "sum = 0\n",
    "i = 1\n",
    "\n",
    "while i <= n:\n",
    "    sum += i\n",
    "    i += 1  # update counter\n",
    "\n",
    "# print the sum\n",
    "print(\"The sum is\", sum)"
   ]
  },
  {
   "cell_type": "markdown",
   "metadata": {},
   "source": [
    "### while else.. statements"
   ]
  },
  {
   "cell_type": "code",
   "execution_count": 106,
   "metadata": {},
   "outputs": [
    {
     "name": "stdout",
     "output_type": "stream",
     "text": [
      "1\n",
      "2\n",
      "3\n",
      "4\n",
      "5\n",
      "i is no longer less than 6\n"
     ]
    }
   ],
   "source": [
    "# while else.. statements\n",
    "# In while else, the else part executes only when the while part executes/exhaust itself completely\n",
    "# If we break or terminate the while loop in the middle the else part doesn't executes\n",
    "\n",
    "i = 1\n",
    "while i < 6:\n",
    "    print(i)\n",
    "    i += 1\n",
    "else:\n",
    "    print(\"i is no longer less than 6\")"
   ]
  },
  {
   "cell_type": "code",
   "execution_count": 137,
   "metadata": {},
   "outputs": [
    {
     "name": "stdout",
     "output_type": "stream",
     "text": [
      "Inside loop\n",
      "Inside loop\n",
      "Inside loop\n",
      "Inside else\n"
     ]
    }
   ],
   "source": [
    "counter = 0\n",
    "\n",
    "while counter < 3:\n",
    "    print(\"Inside loop\")\n",
    "    counter = counter + 1\n",
    "else:\n",
    "    print(\"Inside else\")"
   ]
  },
  {
   "cell_type": "code",
   "execution_count": 138,
   "metadata": {},
   "outputs": [
    {
     "name": "stdout",
     "output_type": "stream",
     "text": [
      "10\n",
      "11\n",
      "12\n",
      "13\n",
      "14\n",
      "15\n",
      "16\n",
      "17\n",
      "18\n",
      "19\n",
      "20\n",
      "21\n",
      "22\n",
      "23\n",
      "24\n",
      "It will also print the else block after executing the while block sucessfully\n"
     ]
    }
   ],
   "source": [
    "i = 10\n",
    "\n",
    "while i < 25:\n",
    "    print(i)\n",
    "    i += 1\n",
    "else:\n",
    "    print(\"It will also print the else block after executing the while block sucessfully\")"
   ]
  },
  {
   "cell_type": "markdown",
   "metadata": {},
   "source": [
    "### 2) For loop\n",
    "\n",
    "A for loop is used for iterating over a sequence (that is either a list, a tuple, a dictionary, a set, or a string or a range)."
   ]
  },
  {
   "cell_type": "code",
   "execution_count": 139,
   "metadata": {},
   "outputs": [],
   "source": [
    "# Syntax:\n",
    "\n",
    "# for element in sequence:\n",
    "#    statement(s)"
   ]
  },
  {
   "cell_type": "code",
   "execution_count": 143,
   "metadata": {},
   "outputs": [
    {
     "name": "stdout",
     "output_type": "stream",
     "text": [
      "0\n",
      "1\n",
      "2\n",
      "3\n",
      "4\n",
      "5\n",
      "6\n",
      "7\n",
      "8\n",
      "9\n"
     ]
    }
   ],
   "source": [
    "for i in range(10):\n",
    "    print(i)"
   ]
  },
  {
   "cell_type": "code",
   "execution_count": 148,
   "metadata": {},
   "outputs": [
    {
     "name": "stdout",
     "output_type": "stream",
     "text": [
      "0\n",
      "2\n",
      "4\n",
      "6\n",
      "8\n",
      "10\n",
      "12\n",
      "14\n",
      "16\n",
      "18\n"
     ]
    }
   ],
   "source": [
    "for i in range(0, 20, 2):\n",
    "    print(i)"
   ]
  },
  {
   "cell_type": "code",
   "execution_count": 152,
   "metadata": {},
   "outputs": [
    {
     "name": "stdout",
     "output_type": "stream",
     "text": [
      "0\n",
      "5\n",
      "10\n",
      "15\n",
      "20\n",
      "25\n",
      "30\n",
      "35\n",
      "40\n",
      "45\n",
      "50\n"
     ]
    }
   ],
   "source": [
    "for i in range(0, 51, 5):\n",
    "    print(i)"
   ]
  },
  {
   "cell_type": "markdown",
   "metadata": {},
   "source": [
    "### 3) Nested Loops"
   ]
  },
  {
   "cell_type": "code",
   "execution_count": 157,
   "metadata": {},
   "outputs": [
    {
     "name": "stdout",
     "output_type": "stream",
     "text": [
      "1 X 1 = 1\n",
      "1 X 2 = 2\n",
      "1 X 3 = 3\n",
      "1 X 4 = 4\n",
      "1 X 5 = 5\n",
      "1 X 6 = 6\n",
      "1 X 7 = 7\n",
      "1 X 8 = 8\n",
      "1 X 9 = 9\n",
      "1 X 10 = 10\n",
      "\n",
      "\n",
      "2 X 1 = 2\n",
      "2 X 2 = 4\n",
      "2 X 3 = 6\n",
      "2 X 4 = 8\n",
      "2 X 5 = 10\n",
      "2 X 6 = 12\n",
      "2 X 7 = 14\n",
      "2 X 8 = 16\n",
      "2 X 9 = 18\n",
      "2 X 10 = 20\n",
      "\n",
      "\n",
      "3 X 1 = 3\n",
      "3 X 2 = 6\n",
      "3 X 3 = 9\n",
      "3 X 4 = 12\n",
      "3 X 5 = 15\n",
      "3 X 6 = 18\n",
      "3 X 7 = 21\n",
      "3 X 8 = 24\n",
      "3 X 9 = 27\n",
      "3 X 10 = 30\n",
      "\n",
      "\n",
      "4 X 1 = 4\n",
      "4 X 2 = 8\n",
      "4 X 3 = 12\n",
      "4 X 4 = 16\n",
      "4 X 5 = 20\n",
      "4 X 6 = 24\n",
      "4 X 7 = 28\n",
      "4 X 8 = 32\n",
      "4 X 9 = 36\n",
      "4 X 10 = 40\n",
      "\n",
      "\n",
      "5 X 1 = 5\n",
      "5 X 2 = 10\n",
      "5 X 3 = 15\n",
      "5 X 4 = 20\n",
      "5 X 5 = 25\n",
      "5 X 6 = 30\n",
      "5 X 7 = 35\n",
      "5 X 8 = 40\n",
      "5 X 9 = 45\n",
      "5 X 10 = 50\n",
      "\n",
      "\n",
      "6 X 1 = 6\n",
      "6 X 2 = 12\n",
      "6 X 3 = 18\n",
      "6 X 4 = 24\n",
      "6 X 5 = 30\n",
      "6 X 6 = 36\n",
      "6 X 7 = 42\n",
      "6 X 8 = 48\n",
      "6 X 9 = 54\n",
      "6 X 10 = 60\n",
      "\n",
      "\n",
      "7 X 1 = 7\n",
      "7 X 2 = 14\n",
      "7 X 3 = 21\n",
      "7 X 4 = 28\n",
      "7 X 5 = 35\n",
      "7 X 6 = 42\n",
      "7 X 7 = 49\n",
      "7 X 8 = 56\n",
      "7 X 9 = 63\n",
      "7 X 10 = 70\n",
      "\n",
      "\n",
      "8 X 1 = 8\n",
      "8 X 2 = 16\n",
      "8 X 3 = 24\n",
      "8 X 4 = 32\n",
      "8 X 5 = 40\n",
      "8 X 6 = 48\n",
      "8 X 7 = 56\n",
      "8 X 8 = 64\n",
      "8 X 9 = 72\n",
      "8 X 10 = 80\n",
      "\n",
      "\n",
      "9 X 1 = 9\n",
      "9 X 2 = 18\n",
      "9 X 3 = 27\n",
      "9 X 4 = 36\n",
      "9 X 5 = 45\n",
      "9 X 6 = 54\n",
      "9 X 7 = 63\n",
      "9 X 8 = 72\n",
      "9 X 9 = 81\n",
      "9 X 10 = 90\n",
      "\n",
      "\n",
      "10 X 1 = 10\n",
      "10 X 2 = 20\n",
      "10 X 3 = 30\n",
      "10 X 4 = 40\n",
      "10 X 5 = 50\n",
      "10 X 6 = 60\n",
      "10 X 7 = 70\n",
      "10 X 8 = 80\n",
      "10 X 9 = 90\n",
      "10 X 10 = 100\n",
      "\n",
      "\n"
     ]
    }
   ],
   "source": [
    "'''for i in range(1,11):\n",
    "    for j in range(1,11):\n",
    "        print(i, 'X', j, '=',i*j)'''\n",
    "\n",
    "for x in range(1, 11):\n",
    "    for y in range(1, 11):\n",
    "        print('%d X %d = %d' % (x, y, x*y))\n",
    "    print('\\n')"
   ]
  },
  {
   "cell_type": "markdown",
   "metadata": {},
   "source": [
    "### 4) Break\n",
    "        \n",
    "The break statement terminates the loop containing it. \n",
    "Control of the program flows to the statement immediately after the body of the loop.\n",
    "\n",
    "If break statement is inside a nested loop (loop inside another loop), break will terminate the innermost loop."
   ]
  },
  {
   "cell_type": "code",
   "execution_count": 162,
   "metadata": {},
   "outputs": [
    {
     "name": "stdout",
     "output_type": "stream",
     "text": [
      "0\n",
      "1\n",
      "2\n",
      "3\n"
     ]
    }
   ],
   "source": [
    "for i in range(9):\n",
    "    if i > 3:\n",
    "        break\n",
    "    print(i)"
   ]
  },
  {
   "cell_type": "code",
   "execution_count": 164,
   "metadata": {},
   "outputs": [
    {
     "name": "stdout",
     "output_type": "stream",
     "text": [
      "1\n",
      "2\n",
      "3\n"
     ]
    }
   ],
   "source": [
    "i = 1\n",
    "while i < 9:\n",
    "    print(i)\n",
    "    if i == 3:\n",
    "        break\n",
    "    i= i + 1"
   ]
  },
  {
   "cell_type": "code",
   "execution_count": 165,
   "metadata": {},
   "outputs": [
    {
     "name": "stdout",
     "output_type": "stream",
     "text": [
      "s\n",
      "t\n",
      "r\n",
      "The end\n"
     ]
    }
   ],
   "source": [
    "# Use of break statement inside loop\n",
    "\n",
    "for val in \"string\":\n",
    "    if val == \"i\":\n",
    "        break\n",
    "    print(val)\n",
    "\n",
    "print(\"The end\")"
   ]
  },
  {
   "cell_type": "code",
   "execution_count": 166,
   "metadata": {},
   "outputs": [
    {
     "name": "stdout",
     "output_type": "stream",
     "text": [
      "s\n",
      "o\n",
      "h\n",
      "e\n",
      "l\n",
      "s\n",
      "h\n",
      "a\n",
      "i\n",
      "k\n",
      "h\n"
     ]
    }
   ],
   "source": [
    "email = 'sohelshaikh@python.mail'\n",
    "\n",
    "for ele in email:\n",
    "    if ele == '@':\n",
    "        break\n",
    "    print(ele)"
   ]
  },
  {
   "cell_type": "markdown",
   "metadata": {},
   "source": [
    "### 5) Continue\n",
    "\n",
    "The continue statement is used to skip the rest of the code inside a loop for the current iteration only. \n",
    "Loop does not terminate but continues on with the next iteration."
   ]
  },
  {
   "cell_type": "code",
   "execution_count": 173,
   "metadata": {},
   "outputs": [
    {
     "name": "stdout",
     "output_type": "stream",
     "text": [
      "0\n",
      "1\n",
      "2\n",
      "4\n",
      "5\n",
      "6\n",
      "7\n",
      "8\n"
     ]
    }
   ],
   "source": [
    "for i in range(9):\n",
    "    if i == 3:\n",
    "        continue\n",
    "    print(i)"
   ]
  },
  {
   "cell_type": "code",
   "execution_count": 175,
   "metadata": {},
   "outputs": [
    {
     "name": "stdout",
     "output_type": "stream",
     "text": [
      "1\n",
      "2\n",
      "3\n",
      "4\n",
      "6\n",
      "7\n",
      "8\n",
      "9\n"
     ]
    }
   ],
   "source": [
    "i = 0\n",
    "\n",
    "while i < 9:\n",
    "    i = i + 1\n",
    "    if i == 5:\n",
    "        continue\n",
    "    print(i)"
   ]
  },
  {
   "cell_type": "code",
   "execution_count": 178,
   "metadata": {},
   "outputs": [
    {
     "name": "stdout",
     "output_type": "stream",
     "text": [
      "s\n",
      "t\n",
      "r\n",
      "n\n",
      "g\n",
      "The end\n"
     ]
    }
   ],
   "source": [
    "# Program to show the use of continue statement inside loops\n",
    "\n",
    "for val in \"string\":\n",
    "    if val == \"i\":\n",
    "        continue\n",
    "    print(val)\n",
    "\n",
    "print(\"The end\")"
   ]
  },
  {
   "cell_type": "code",
   "execution_count": 179,
   "metadata": {},
   "outputs": [
    {
     "name": "stdout",
     "output_type": "stream",
     "text": [
      "s\n",
      "o\n",
      "h\n",
      "e\n",
      "l\n",
      "s\n",
      "h\n",
      "a\n",
      "i\n",
      "k\n",
      "h\n"
     ]
    }
   ],
   "source": [
    "email = 'sohel/shaikh'\n",
    "\n",
    "for ele in email:\n",
    "    if ele == '/':\n",
    "        continue\n",
    "    print(ele)"
   ]
  },
  {
   "cell_type": "markdown",
   "metadata": {},
   "source": [
    "### for else.. statements"
   ]
  },
  {
   "cell_type": "code",
   "execution_count": 181,
   "metadata": {},
   "outputs": [
    {
     "name": "stdout",
     "output_type": "stream",
     "text": [
      "S\n",
      "O\n",
      "H\n",
      "E\n",
      "L\n",
      "This is the for else block\n"
     ]
    }
   ],
   "source": [
    "# for else.. statements\n",
    "# In 'for else', the else part executes only when the for part executes/exhaust itself completely\n",
    "# If we break or terminate the for loop in the middle the else part doesn't executes\n",
    "\n",
    "l = 'SOHEL'\n",
    "\n",
    "for i in l:\n",
    "    print(i)\n",
    "else:\n",
    "    print(\"This is the for else block\")"
   ]
  },
  {
   "cell_type": "code",
   "execution_count": 182,
   "metadata": {},
   "outputs": [
    {
     "name": "stdout",
     "output_type": "stream",
     "text": [
      "s\n",
      "o\n",
      "h\n",
      "e\n",
      "l\n",
      "s\n",
      "h\n",
      "a\n",
      "i\n",
      "k\n",
      "h\n"
     ]
    }
   ],
   "source": [
    "# breaking the for loop in the middle so that the else part doesn't executes\n",
    "\n",
    "l = 'sohelshaikh@python.mail'\n",
    "\n",
    "for i in l:\n",
    "    if i == '@':\n",
    "        break\n",
    "    print(i)\n",
    "else:\n",
    "    print(\"this is for else block\")"
   ]
  },
  {
   "cell_type": "code",
   "execution_count": 185,
   "metadata": {},
   "outputs": [
    {
     "name": "stdout",
     "output_type": "stream",
     "text": [
      "s\n",
      "o\n",
      "h\n",
      "e\n",
      "l\n",
      "s\n",
      "h\n",
      "a\n",
      "i\n",
      "k\n",
      "h\n",
      "this is for else block\n"
     ]
    }
   ],
   "source": [
    "l = 'sohelshaikh'\n",
    "\n",
    "for i in l:\n",
    "    if i == '/':\n",
    "        break\n",
    "    print(i)\n",
    "else:\n",
    "    print(\"this is for else block\")"
   ]
  },
  {
   "cell_type": "code",
   "execution_count": 189,
   "metadata": {},
   "outputs": [
    {
     "name": "stdout",
     "output_type": "stream",
     "text": [
      "s\n",
      "o\n",
      "h\n",
      "e\n",
      "l\n",
      "k\n",
      "h\n",
      "a\n",
      "n\n",
      "this is for else block\n"
     ]
    }
   ],
   "source": [
    "s = \"sohel khan\"\n",
    " \n",
    "for i in s:\n",
    "    if i == ' ':\n",
    "        continue\n",
    "    print(i)\n",
    "else:\n",
    "    print(\"this is for else block\")"
   ]
  },
  {
   "cell_type": "markdown",
   "metadata": {},
   "source": [
    "###  *Practice Problems"
   ]
  },
  {
   "cell_type": "code",
   "execution_count": 192,
   "metadata": {},
   "outputs": [
    {
     "name": "stdout",
     "output_type": "stream",
     "text": [
      "Enter a number: 7\n",
      "7 is a prime number\n"
     ]
    }
   ],
   "source": [
    "## 1) Check if a number is Prime number or not Prime number\n",
    "\n",
    "num = int(input(\"Enter a number: \"))\n",
    "\n",
    "# prime number is always greater than 1\n",
    "if num > 1:\n",
    "    for i in range(2, num):\n",
    "        if num % i == 0:\n",
    "            print(num,\"is not a prime number\")\n",
    "            break\n",
    "    else:\n",
    "        print(num,\"is a prime number\")\n",
    "        \n",
    "# if the entered number is less than or equal to 1 then it is not prime number\n",
    "else:\n",
    "    print(num, \"is not a prime number\")"
   ]
  },
  {
   "cell_type": "code",
   "execution_count": 193,
   "metadata": {},
   "outputs": [
    {
     "name": "stdout",
     "output_type": "stream",
     "text": [
      "Enter a number: 64\n",
      "64 is divisible by 2\n",
      "64 is divisible by 4\n",
      "64 is divisible by 8\n",
      "64 is divisible by 16\n",
      "64 is divisible by 32\n",
      "64 is NOT a Prime Number\n"
     ]
    }
   ],
   "source": [
    "## 1.1) Check if a number is Prime number or not Prime number\n",
    "\n",
    "num = int(input(\"Enter a number: \"))\n",
    "\n",
    "isDivisible = False\n",
    "\n",
    "i = 2\n",
    "while i < num:\n",
    "    if num % i == 0:\n",
    "        isDivisible = True\n",
    "        print(\"{} is divisible by {}\".format(num,i))\n",
    "    i += 1\n",
    "    \n",
    "if isDivisible:\n",
    "    print(\"{} is NOT a Prime Number\".format(num))\n",
    "else:\n",
    "    print(\"{} is a Prime Number\".format(num))"
   ]
  },
  {
   "cell_type": "code",
   "execution_count": 147,
   "metadata": {},
   "outputs": [
    {
     "name": "stdout",
     "output_type": "stream",
     "text": [
      "Enter a number: 16\n",
      "16 is divisible by 2\n",
      "16 is NOT a Prime Number\n"
     ]
    }
   ],
   "source": [
    "## 1.3) Check if a number is Prime number or not Prime number\n",
    "\n",
    "num = int(input(\"Enter a number: \"))\n",
    "\n",
    "isDivisible = False\n",
    "\n",
    "i = 2\n",
    "while i < num:\n",
    "    if num % i == 0:\n",
    "        isDivisible = True\n",
    "        print(\"{} is divisible by {}\".format(num,i))\n",
    "        break\n",
    "    i += 1\n",
    "    \n",
    "if isDivisible:\n",
    "    print(\"{} is NOT a Prime Number\".format(num))\n",
    "else:\n",
    "    print(\"{} is a Prime Number\".format(num))"
   ]
  },
  {
   "cell_type": "code",
   "execution_count": 194,
   "metadata": {},
   "outputs": [
    {
     "name": "stdout",
     "output_type": "stream",
     "text": [
      "Enter lower range: 100\n",
      "Enter upper range: 201\n",
      "Prime numbers between 100 and 201 are: \n",
      "101\n",
      "103\n",
      "107\n",
      "109\n",
      "113\n",
      "127\n",
      "131\n",
      "137\n",
      "139\n",
      "149\n",
      "151\n",
      "157\n",
      "163\n",
      "167\n",
      "173\n",
      "179\n",
      "181\n",
      "191\n",
      "193\n",
      "197\n",
      "199\n"
     ]
    }
   ],
   "source": [
    "## 2) Prime numbers in an interval\n",
    "\n",
    "lower = int(input(\"Enter lower range: \"))\n",
    "upper = int(input(\"Enter upper range: \"))\n",
    "\n",
    "print(\"Prime numbers between {} and {} are: \".format(lower,upper))\n",
    "\n",
    "for num in range(lower, upper + 1):\n",
    "     # prime numbers are greater than 1\n",
    "    if num > 1:\n",
    "        for i in range(2, num):\n",
    "            if num % i == 0:\n",
    "                break\n",
    "        else:\n",
    "            print(num)"
   ]
  },
  {
   "cell_type": "code",
   "execution_count": 195,
   "metadata": {},
   "outputs": [
    {
     "name": "stdout",
     "output_type": "stream",
     "text": [
      "Enter lower range: 100\n",
      "Enter upper range: 151\n",
      "Prime numbers between 100 and 151 are: \n",
      "101\n",
      "103\n",
      "107\n",
      "109\n",
      "113\n",
      "127\n",
      "131\n",
      "137\n",
      "139\n",
      "149\n",
      "151\n"
     ]
    }
   ],
   "source": [
    "## 2.1) Prime numbers in an interval\n",
    "\n",
    "lower = int(input(\"Enter lower range: \"))\n",
    "upper = int(input(\"Enter upper range: \"))\n",
    "\n",
    "print(\"Prime numbers between {} and {} are: \".format(lower,upper))\n",
    "\n",
    "for num in range(lower, upper + 1):\n",
    "     # prime numbers are greater than 1\n",
    "    if num > 1:\n",
    "        isDivisible = False\n",
    "        for i in range(2, num):\n",
    "            if num % i == 0:\n",
    "                isDivisible = True\n",
    "        if not isDivisible:\n",
    "            print(num)"
   ]
  },
  {
   "cell_type": "code",
   "execution_count": 197,
   "metadata": {},
   "outputs": [
    {
     "name": "stdout",
     "output_type": "stream",
     "text": [
      "3 X 1 = 3\n",
      "3 X 2 = 6\n",
      "3 X 3 = 9\n",
      "3 X 4 = 12\n",
      "3 X 5 = 15\n",
      "3 X 6 = 18\n",
      "3 X 7 = 21\n",
      "3 X 8 = 24\n",
      "3 X 9 = 27\n",
      "3 X 10 = 30\n"
     ]
    }
   ],
   "source": [
    "## 4) Table of 3\n",
    "\n",
    "x = 3\n",
    "\n",
    "for y in range(1,11):\n",
    "    print('%d X %d = %d' % (x, y, x*y))"
   ]
  },
  {
   "cell_type": "code",
   "execution_count": 199,
   "metadata": {},
   "outputs": [
    {
     "name": "stdout",
     "output_type": "stream",
     "text": [
      "Enter a number: 9\n",
      "9 X 1 = 9\n",
      "9 X 2 = 18\n",
      "9 X 3 = 27\n",
      "9 X 4 = 36\n",
      "9 X 5 = 45\n",
      "9 X 6 = 54\n",
      "9 X 7 = 63\n",
      "9 X 8 = 72\n",
      "9 X 9 = 81\n",
      "9 X 10 = 90\n"
     ]
    }
   ],
   "source": [
    "## 5) Table of any input number\n",
    "\n",
    "x = int(input(\"Enter a number: \"))\n",
    "\n",
    "for y in range(1,11):\n",
    "    print('%d X %d = %d' % (x, y, x*y))"
   ]
  },
  {
   "cell_type": "markdown",
   "metadata": {},
   "source": [
    "#### EXTRA"
   ]
  },
  {
   "cell_type": "code",
   "execution_count": 200,
   "metadata": {},
   "outputs": [
    {
     "name": "stdout",
     "output_type": "stream",
     "text": [
      "          \n",
      "         * \n",
      "        * * \n",
      "       * * * \n",
      "      * * * * \n",
      "     * * * * * \n",
      "    * * * * * * \n",
      "   * * * * * * * \n",
      "  * * * * * * * * \n",
      " * * * * * * * * * \n"
     ]
    }
   ],
   "source": [
    "###) Lets print some shapes to get comfortable with loops\n",
    "\n",
    "# pyramid\n",
    "for i in range(10):\n",
    "    print((10-i)*' ' + i*'* ')"
   ]
  },
  {
   "cell_type": "code",
   "execution_count": 158,
   "metadata": {},
   "outputs": [
    {
     "name": "stdout",
     "output_type": "stream",
     "text": [
      "\n",
      " *\n",
      " * *\n",
      " * * *\n",
      " * * * *\n",
      " * * * * *\n",
      " * * * *\n",
      " * * *\n",
      " * *\n",
      " *\n"
     ]
    }
   ],
   "source": [
    "# half diamond\n",
    "for i in range(10):\n",
    "    if i < 6:\n",
    "        print(i*' *')\n",
    "    else:\n",
    "        print((10 - i)*' *')"
   ]
  },
  {
   "cell_type": "code",
   "execution_count": 159,
   "metadata": {},
   "outputs": [
    {
     "name": "stdout",
     "output_type": "stream",
     "text": [
      "          \n",
      "         * \n",
      "        * * \n",
      "       * * * \n",
      "      * * * * \n",
      "     * * * * * \n",
      "      * * * * \n",
      "       * * * \n",
      "        * * \n",
      "         * \n"
     ]
    }
   ],
   "source": [
    "# full diamond\n",
    "for i in range(10):\n",
    "    if i < 6:\n",
    "        print((10-i)*' ' + i*'* ')\n",
    "    else:\n",
    "        print((i*' ' + (10 - i)*'* '))"
   ]
  }
 ],
 "metadata": {
  "kernelspec": {
   "display_name": "Python 3",
   "language": "python",
   "name": "python3"
  },
  "language_info": {
   "codemirror_mode": {
    "name": "ipython",
    "version": 3
   },
   "file_extension": ".py",
   "mimetype": "text/x-python",
   "name": "python",
   "nbconvert_exporter": "python",
   "pygments_lexer": "ipython3",
   "version": "3.7.6"
  }
 },
 "nbformat": 4,
 "nbformat_minor": 2
}
