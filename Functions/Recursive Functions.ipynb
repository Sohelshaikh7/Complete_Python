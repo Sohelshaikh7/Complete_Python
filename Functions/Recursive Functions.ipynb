{
 "cells": [
  {
   "cell_type": "markdown",
   "metadata": {},
   "source": [
    "# Recursion\n",
    "\n",
    "Python also accepts function recursion, which means a defined function can call itself. \n",
    "\n",
    "Recursion is a common mathematical and programming concept. It means that a function calls itself. \n",
    "\n",
    "This has the benefit of meaning that you can loop through data to reach a result."
   ]
  },
  {
   "cell_type": "code",
   "execution_count": 1,
   "metadata": {},
   "outputs": [
    {
     "name": "stdout",
     "output_type": "stream",
     "text": [
      "Factorial of 5 is 120\n"
     ]
    }
   ],
   "source": [
    "# Python program to get factorial of a number using Recursion\n",
    "\n",
    "def factorial(num):\n",
    "    '''\n",
    "    This is a recursive function to find the factorial of a given number\n",
    "    '''\n",
    "    if num == 1:\n",
    "        return 1 \n",
    "    else:\n",
    "        return num * factorial(num-1)\n",
    "\n",
    "num = 5\n",
    "\n",
    "print('Factorial of {0} is {1}'.format(num, factorial(num)))"
   ]
  },
  {
   "cell_type": "code",
   "execution_count": 2,
   "metadata": {},
   "outputs": [
    {
     "name": "stdout",
     "output_type": "stream",
     "text": [
      "Factorial of 5 is 120\n"
     ]
    }
   ],
   "source": [
    "# Python program to get factorial of a number using Recursion\n",
    "\n",
    "def factorial(num):\n",
    "    '''\n",
    "    This is a recursive function to find the factorial of a given number\n",
    "    '''\n",
    "    return 1 if num == 1 else (num * factorial(num-1))\n",
    "\n",
    "num = 5\n",
    "\n",
    "print('Factorial of {0} is {1}'.format(num, factorial(num)))"
   ]
  },
  {
   "cell_type": "code",
   "execution_count": 4,
   "metadata": {},
   "outputs": [
    {
     "name": "stdout",
     "output_type": "stream",
     "text": [
      "Fibonacci sequence: \n",
      "0\n",
      "1\n",
      "1\n",
      "2\n",
      "3\n",
      "5\n",
      "8\n",
      "13\n",
      "21\n",
      "34\n"
     ]
    }
   ],
   "source": [
    "# Pyton progran for fibonacci sequence upto the n-th term using recursive function\n",
    "\n",
    "def fibonacci(num):\n",
    "    '''\n",
    "    Recursive function to print fibonacci sequence\n",
    "    '''\n",
    "    if num <= 1:\n",
    "        return num\n",
    "    else:\n",
    "        return (fibonacci(num-1) + fibonacci(num-2))\n",
    "\n",
    "nterms = 10\n",
    "\n",
    "print('Fibonacci sequence: ')\n",
    "for num in range(nterms):\n",
    "    print(fibonacci(num))"
   ]
  },
  {
   "cell_type": "code",
   "execution_count": 5,
   "metadata": {},
   "outputs": [
    {
     "name": "stdout",
     "output_type": "stream",
     "text": [
      "Fibonacci sequence: \n",
      "0\n",
      "1\n",
      "1\n",
      "2\n",
      "3\n",
      "5\n",
      "8\n",
      "13\n",
      "21\n",
      "34\n"
     ]
    }
   ],
   "source": [
    "# Pyton progran for fibonacci sequence upto the n-th term using recursive function\n",
    "\n",
    "def fibonacci(num):\n",
    "    '''\n",
    "    Recursive function to print fibonacci sequence\n",
    "    '''\n",
    "    return num if num <= 1 else fibonacci(num-1) + fibonacci(num-2)\n",
    "\n",
    "nterms = 10\n",
    "\n",
    "print('Fibonacci sequence: ')\n",
    "for num in range(nterms):\n",
    "    print(fibonacci(num))"
   ]
  }
 ],
 "metadata": {
  "kernelspec": {
   "display_name": "Python 3",
   "language": "python",
   "name": "python3"
  },
  "language_info": {
   "codemirror_mode": {
    "name": "ipython",
    "version": 3
   },
   "file_extension": ".py",
   "mimetype": "text/x-python",
   "name": "python",
   "nbconvert_exporter": "python",
   "pygments_lexer": "ipython3",
   "version": "3.7.6"
  }
 },
 "nbformat": 4,
 "nbformat_minor": 4
}
