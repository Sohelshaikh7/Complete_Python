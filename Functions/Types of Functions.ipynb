{
 "cells": [
  {
   "cell_type": "markdown",
   "metadata": {},
   "source": [
    "# Types of Functions"
   ]
  },
  {
   "cell_type": "markdown",
   "metadata": {},
   "source": [
    "1. Built-in Functions\n",
    "2. User-defined Functions"
   ]
  },
  {
   "cell_type": "markdown",
   "metadata": {},
   "source": [
    "## Built-in Functions"
   ]
  },
  {
   "cell_type": "code",
   "execution_count": 1,
   "metadata": {},
   "outputs": [
    {
     "name": "stdout",
     "output_type": "stream",
     "text": [
      "100\n"
     ]
    }
   ],
   "source": [
    "# abs()\n",
    "# finds the absolute value\n",
    "\n",
    "num = -100\n",
    "\n",
    "print(abs(num))"
   ]
  },
  {
   "cell_type": "code",
   "execution_count": 3,
   "metadata": {},
   "outputs": [
    {
     "name": "stdout",
     "output_type": "stream",
     "text": [
      "True\n"
     ]
    }
   ],
   "source": [
    "# all()\n",
    "\n",
    "# return value of all() function:-\n",
    "# 'True': if all the elements in an iterable are True\n",
    "# 'False': if any element in an iterable is False\n",
    "\n",
    "lst = [1,2,3,4]\n",
    "\n",
    "print(all(lst))"
   ]
  },
  {
   "cell_type": "code",
   "execution_count": 5,
   "metadata": {},
   "outputs": [
    {
     "name": "stdout",
     "output_type": "stream",
     "text": [
      "False\n"
     ]
    }
   ],
   "source": [
    "lst = (0,1,2,3,4)\n",
    "\n",
    "print(all(lst))"
   ]
  },
  {
   "cell_type": "code",
   "execution_count": 6,
   "metadata": {},
   "outputs": [
    {
     "name": "stdout",
     "output_type": "stream",
     "text": [
      "True\n"
     ]
    }
   ],
   "source": [
    "lst = []\n",
    "\n",
    "print(all(lst))"
   ]
  },
  {
   "cell_type": "code",
   "execution_count": 7,
   "metadata": {},
   "outputs": [
    {
     "name": "stdout",
     "output_type": "stream",
     "text": [
      "False\n"
     ]
    }
   ],
   "source": [
    "lst = [False,1,2]\n",
    "\n",
    "print(all(lst))"
   ]
  },
  {
   "cell_type": "code",
   "execution_count": 8,
   "metadata": {},
   "outputs": [
    {
     "name": "stdout",
     "output_type": "stream",
     "text": [
      "['__add__', '__class__', '__contains__', '__delattr__', '__delitem__', '__dir__', '__doc__', '__eq__', '__format__', '__ge__', '__getattribute__', '__getitem__', '__gt__', '__hash__', '__iadd__', '__imul__', '__init__', '__init_subclass__', '__iter__', '__le__', '__len__', '__lt__', '__mul__', '__ne__', '__new__', '__reduce__', '__reduce_ex__', '__repr__', '__reversed__', '__rmul__', '__setattr__', '__setitem__', '__sizeof__', '__str__', '__subclasshook__', 'append', 'clear', 'copy', 'count', 'extend', 'index', 'insert', 'pop', 'remove', 'reverse', 'sort']\n"
     ]
    }
   ],
   "source": [
    "# dir()\n",
    "# returns all the functions, variables, attributes \n",
    "# associated with the given data-type\n",
    "\n",
    "numbers = [1,2,3]\n",
    "\n",
    "print(dir(numbers))"
   ]
  },
  {
   "cell_type": "code",
   "execution_count": 9,
   "metadata": {},
   "outputs": [
    {
     "name": "stdout",
     "output_type": "stream",
     "text": [
      "(4, 1)\n"
     ]
    }
   ],
   "source": [
    "# divmod()\n",
    "# it returns a tuple,\n",
    "# returns the quotient and remainder, when we divide the \n",
    "# first num with the second num\n",
    "\n",
    "print(divmod(9,2))"
   ]
  },
  {
   "cell_type": "code",
   "execution_count": 10,
   "metadata": {},
   "outputs": [
    {
     "name": "stdout",
     "output_type": "stream",
     "text": [
      "index 0 has value 10\n",
      "index 1 has value 20\n",
      "index 2 has value 30\n",
      "index 3 has value 40\n"
     ]
    }
   ],
   "source": [
    "# enumerate()\n",
    "# The enumerate() method adds a counter to an iterable and returns it\n",
    "# Syntax: enumerate(iterable, start=0)\n",
    "\n",
    "# it returns a pair of values,\n",
    "# the index and the actual numbers\n",
    "\n",
    "numbers = [10,20,30,40]\n",
    "\n",
    "for index,num in enumerate(numbers):\n",
    "    print('index {0} has value {1}'.format(index, num))"
   ]
  },
  {
   "cell_type": "code",
   "execution_count": 18,
   "metadata": {},
   "outputs": [
    {
     "name": "stdout",
     "output_type": "stream",
     "text": [
      "index 5 has value 10\n",
      "index 6 has value 20\n",
      "index 7 has value 30\n",
      "index 8 has value 40\n"
     ]
    }
   ],
   "source": [
    "numbers = [10,20,30,40]\n",
    "\n",
    "for index,num in enumerate(numbers,5):\n",
    "    print('index {0} has value {1}'.format(index, num))"
   ]
  },
  {
   "cell_type": "code",
   "execution_count": 19,
   "metadata": {},
   "outputs": [],
   "source": [
    "# filter()\n",
    "# the filter() method constructs an iterator from elements of an iterable \n",
    "# for which a functions returns True\n",
    "# Syntax: filter(function, iterable)\n",
    "# filter out the data based on a defined condition \n",
    "# mostly used with list,tuples and other iterables\n",
    "\n",
    "def find_positive_num(num):\n",
    "    '''\n",
    "    This function returns the positive number if the num is positive\n",
    "    '''\n",
    "    if num > 0:\n",
    "        return num"
   ]
  },
  {
   "cell_type": "code",
   "execution_count": 21,
   "metadata": {},
   "outputs": [
    {
     "name": "stdout",
     "output_type": "stream",
     "text": [
      "[-10, -9, -8, -7, -6, -5, -4, -3, -2, -1, 0, 1, 2, 3, 4, 5, 6, 7, 8, 9]\n",
      "\n",
      "\n",
      "[1, 2, 3, 4, 5, 6, 7, 8, 9]\n"
     ]
    }
   ],
   "source": [
    "number_list = range(-10, 10)\n",
    "print(list(number_list))\n",
    "print('\\n')\n",
    "\n",
    "positive_num_lst = list(filter(find_positive_num, number_list))\n",
    "print(positive_num_lst)"
   ]
  },
  {
   "cell_type": "code",
   "execution_count": 22,
   "metadata": {},
   "outputs": [
    {
     "name": "stdout",
     "output_type": "stream",
     "text": [
      "True\n",
      "\n",
      "\n",
      "False\n"
     ]
    }
   ],
   "source": [
    "# isinstance()\n",
    "# The isinstance() function checks if the object(first argument) is an \n",
    "# instance or a subclass of classinfo class(second argument)\n",
    "\n",
    "lst = [1,2,3,4]\n",
    "print(isinstance(lst, list))\n",
    "print('\\n')\n",
    "\n",
    "t = (1,2,3,4)\n",
    "print(isinstance(t, list))"
   ]
  },
  {
   "cell_type": "code",
   "execution_count": 23,
   "metadata": {},
   "outputs": [
    {
     "name": "stdout",
     "output_type": "stream",
     "text": [
      "[1, 4, 9, 16]\n"
     ]
    }
   ],
   "source": [
    "# map()\n",
    "# map applies a function to all the items in a input_list.\n",
    "# Syntax: map(function_to_apply, list_of_inputs)\n",
    "\n",
    "numbers = [1,2,3,4]\n",
    "\n",
    "# Normal method of computing num^2 for each elements in the list\n",
    "squared = []\n",
    "for num in numbers:\n",
    "    squared.append(num ** 2)\n",
    "    \n",
    "print(squared)"
   ]
  },
  {
   "cell_type": "code",
   "execution_count": 29,
   "metadata": {},
   "outputs": [
    {
     "name": "stdout",
     "output_type": "stream",
     "text": [
      "[1, 4, 9, 16]\n"
     ]
    }
   ],
   "source": [
    "numbers = [1,2,3,4]\n",
    "\n",
    "def powerofTwo(num):\n",
    "    return num ** 2\n",
    "\n",
    "# using map() function\n",
    "sqaured = list(map(powerofTwo, numbers))\n",
    "print(sqaured)"
   ]
  },
  {
   "cell_type": "code",
   "execution_count": 27,
   "metadata": {},
   "outputs": [
    {
     "name": "stdout",
     "output_type": "stream",
     "text": [
      "24\n"
     ]
    }
   ],
   "source": [
    "# reduce()\n",
    "# reduce applies a function to all the items in a input_list.\n",
    "# Syntax: reduce(function_to_apply, list_of_inputs)\n",
    "# it applies a rolling computation to sequential pairs of values in a list\n",
    "\n",
    "# product of elements in a list\n",
    "product = 1\n",
    "lst = [1,2,3,4]\n",
    "\n",
    "# Normal method\n",
    "for num in lst:\n",
    "    product *= num\n",
    "    \n",
    "print(product)"
   ]
  },
  {
   "cell_type": "code",
   "execution_count": 1,
   "metadata": {},
   "outputs": [
    {
     "name": "stdout",
     "output_type": "stream",
     "text": [
      "24\n"
     ]
    }
   ],
   "source": [
    " # with reduce\n",
    "\n",
    "lst = [1,2,3,4]\n",
    "    \n",
    "from functools import reduce\n",
    "\n",
    "def multiply(x,y):\n",
    "    return x*y\n",
    "\n",
    "product = reduce(multiply, lst)\n",
    "print(product)"
   ]
  },
  {
   "cell_type": "markdown",
   "metadata": {},
   "source": [
    "## User-defined Functions"
   ]
  },
  {
   "cell_type": "code",
   "execution_count": 35,
   "metadata": {},
   "outputs": [
    {
     "name": "stdout",
     "output_type": "stream",
     "text": [
      "product of 10 and 20 is 200\n"
     ]
    }
   ],
   "source": [
    "def product_nums(a, b):\n",
    "    '''\n",
    "    This function returns the product of two numbers\n",
    "    '''\n",
    "    product = a * b\n",
    "    return product\n",
    "\n",
    "num1= 10\n",
    "num2 = 20\n",
    "print('product of {0} and {1} is {2}'.format(num1,num2,product_nums(num1,num2)))"
   ]
  },
  {
   "cell_type": "code",
   "execution_count": 37,
   "metadata": {},
   "outputs": [
    {
     "name": "stdout",
     "output_type": "stream",
     "text": [
      "Select operation.\n",
      "1.Add\n",
      "2.Subtract\n",
      "3.Multiply\n",
      "4.Divide\n",
      "Enter choice(1/2/3/4):3\n",
      "Enter first number: 7\n",
      "Enter second number: 9\n",
      "7 X 9 = 63\n"
     ]
    }
   ],
   "source": [
    "# 2) Claculator\n",
    "\n",
    "# Program make a simple calculator that can add, subtract, multiply and divide using functions\n",
    "\n",
    "# This function adds two numbers\n",
    "\n",
    "def add(x,y):\n",
    "    return x + y\n",
    "\n",
    "# This function subtract two numbers\n",
    "\n",
    "def subtract(x,y):\n",
    "    return x - y\n",
    "\n",
    "# This function multiply two numbers\n",
    "\n",
    "def multiply(x,y):\n",
    "    return x * y\n",
    "\n",
    "# This function divide two numbers\n",
    "\n",
    "def divide(x,y):\n",
    "    return x / y\n",
    "\n",
    "print(\"Select operation.\")\n",
    "print(\"1.Add\")\n",
    "print(\"2.Subtract\")\n",
    "print(\"3.Multiply\")\n",
    "print(\"4.Divide\")\n",
    "\n",
    "choice = input(\"Enter choice(1/2/3/4):\")\n",
    "\n",
    "num1 = int(input(\"Enter first number: \"))\n",
    "\n",
    "num2 = int(input(\"Enter second number: \"))\n",
    "\n",
    "if choice == \"1\":\n",
    "    print(num1,\"+\",num2,\"=\", add(num1,num2))\n",
    "\n",
    "elif choice == \"2\":\n",
    "    print(num1,\"-\",num2,\"=\", subtract(num1,num2))\n",
    "    \n",
    "elif choice == \"3\":\n",
    "    print(num1,\"X\",num2,\"=\", multiply(num1,num2))\n",
    "    \n",
    "elif choice == \"4\":\n",
    "    print(num1,\"/\",num2,\"=\", divide(num1,num2))\n",
    "\n",
    "else:\n",
    "    print(\"Invalid Input\")"
   ]
  }
 ],
 "metadata": {
  "kernelspec": {
   "display_name": "Python 3",
   "language": "python",
   "name": "python3"
  },
  "language_info": {
   "codemirror_mode": {
    "name": "ipython",
    "version": 3
   },
   "file_extension": ".py",
   "mimetype": "text/x-python",
   "name": "python",
   "nbconvert_exporter": "python",
   "pygments_lexer": "ipython3",
   "version": "3.7.6"
  }
 },
 "nbformat": 4,
 "nbformat_minor": 4
}
