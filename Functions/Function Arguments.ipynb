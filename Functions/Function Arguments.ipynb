{
 "cells": [
  {
   "cell_type": "markdown",
   "metadata": {},
   "source": [
    "# Function Arguments"
   ]
  },
  {
   "cell_type": "code",
   "execution_count": 2,
   "metadata": {},
   "outputs": [
    {
     "name": "stdout",
     "output_type": "stream",
     "text": [
      "Hello Sohel, Good Morning\n"
     ]
    }
   ],
   "source": [
    "def greet(name, msg):\n",
    "    '''\n",
    "    This function greets to person with the provided message \n",
    "    '''\n",
    "    print('Hello {0}, {1}'.format(name, msg))\n",
    "\n",
    "# call the function with arguments\n",
    "greet('Sohel', 'Good Morning')"
   ]
  },
  {
   "cell_type": "code",
   "execution_count": 3,
   "metadata": {},
   "outputs": [
    {
     "ename": "TypeError",
     "evalue": "greet() missing 1 required positional argument: 'msg'",
     "output_type": "error",
     "traceback": [
      "\u001b[1;31m---------------------------------------------------------------------------\u001b[0m",
      "\u001b[1;31mTypeError\u001b[0m                                 Traceback (most recent call last)",
      "\u001b[1;32m<ipython-input-3-e2ca3b533f59>\u001b[0m in \u001b[0;36m<module>\u001b[1;34m\u001b[0m\n\u001b[0;32m      1\u001b[0m \u001b[1;31m# calling the function with 1 argument\u001b[0m\u001b[1;33m\u001b[0m\u001b[1;33m\u001b[0m\u001b[1;33m\u001b[0m\u001b[0m\n\u001b[1;32m----> 2\u001b[1;33m \u001b[0mgreet\u001b[0m\u001b[1;33m(\u001b[0m\u001b[1;34m'Sohel'\u001b[0m\u001b[1;33m)\u001b[0m\u001b[1;33m\u001b[0m\u001b[1;33m\u001b[0m\u001b[0m\n\u001b[0m",
      "\u001b[1;31mTypeError\u001b[0m: greet() missing 1 required positional argument: 'msg'"
     ]
    }
   ],
   "source": [
    "# calling the function with 1 argument\n",
    "greet('Sohel')"
   ]
  },
  {
   "cell_type": "markdown",
   "metadata": {},
   "source": [
    "## Different forms of Arguments"
   ]
  },
  {
   "cell_type": "markdown",
   "metadata": {},
   "source": [
    "### 1. Default Arguments\n",
    "\n",
    "We can provide default value to an argument by using the asignment operator '=', while defining the function"
   ]
  },
  {
   "cell_type": "code",
   "execution_count": 4,
   "metadata": {},
   "outputs": [
    {
     "name": "stdout",
     "output_type": "stream",
     "text": [
      "Hello Sohel, Good Night\n"
     ]
    }
   ],
   "source": [
    "def greet(name, msg='Good Morning'):\n",
    "    '''\n",
    "    This function greets to person with the provided message \n",
    "    '''\n",
    "    print('Hello {0}, {1}'.format(name, msg))\n",
    "\n",
    "# call the function with arguments\n",
    "greet('Sohel', 'Good Night')"
   ]
  },
  {
   "cell_type": "code",
   "execution_count": 5,
   "metadata": {},
   "outputs": [
    {
     "name": "stdout",
     "output_type": "stream",
     "text": [
      "Hello Sohel, Good Morning\n"
     ]
    }
   ],
   "source": [
    "# calling the function with 1 argument\n",
    "greet('Sohel')"
   ]
  },
  {
   "cell_type": "markdown",
   "metadata": {},
   "source": [
    "### 2. Keyword Arguments\n",
    "\n",
    "kwargs allows you to pass keyworded variable length of arguments to a function.\n",
    "You should use **kwargs if you want to handle named arguments in a function"
   ]
  },
  {
   "cell_type": "code",
   "execution_count": 12,
   "metadata": {},
   "outputs": [
    {
     "name": "stdout",
     "output_type": "stream",
     "text": [
      "Hello Sohel, Good Morning\n"
     ]
    }
   ],
   "source": [
    "def greet(**kwargs):\n",
    "    '''\n",
    "    This function greets to person with the provided message \n",
    "    '''\n",
    "    if kwargs:\n",
    "        print('Hello {0}, {1}'.format(kwargs['name'], kwargs['msg']))\n",
    "\n",
    "# call the function with arguments\n",
    "greet(name='Sohel', msg='Good Morning')   "
   ]
  },
  {
   "cell_type": "markdown",
   "metadata": {},
   "source": [
    "### 3. Arbitary Arguments\n",
    "\n",
    "Sometimes we don't know in advance the number of arguments that will be passed into a function.\n",
    "\n",
    "Python allows us to handle this kind of situation through function calls with arbitary number of arguments"
   ]
  },
  {
   "cell_type": "code",
   "execution_count": 14,
   "metadata": {},
   "outputs": [
    {
     "name": "stdout",
     "output_type": "stream",
     "text": [
      "('Sohel', 'Rashid', 'Adil', 'Zaid', 'Mudassir', 'Mujahid', 'Arbaaz')\n",
      "Hello Sohel\n",
      "Hello Rashid\n",
      "Hello Adil\n",
      "Hello Zaid\n",
      "Hello Mudassir\n",
      "Hello Mujahid\n",
      "Hello Arbaaz\n"
     ]
    }
   ],
   "source": [
    "def greet(*names):\n",
    "    '''\n",
    "    This function greets all persons in the name tuple\n",
    "    '''\n",
    "    print(names)\n",
    "    \n",
    "    for name in names:\n",
    "        print('Hello {0}'.format(name))\n",
    "\n",
    "# call the function with arguments\n",
    "greet('Sohel', 'Rashid', 'Adil', 'Zaid', 'Mudassir', 'Mujahid', 'Arbaaz')  "
   ]
  },
  {
   "cell_type": "code",
   "execution_count": 15,
   "metadata": {},
   "outputs": [
    {
     "name": "stdout",
     "output_type": "stream",
     "text": [
      "('Sohel', 'Rashid', 'Adil', 'Zaid', 'Mudassir', 'Mujahid', 'Arbaaz')\n",
      "Hello Sohel, Good Morning\n",
      "Hello Rashid, Good Morning\n",
      "Hello Adil, Good Morning\n",
      "Hello Zaid, Good Morning\n",
      "Hello Mudassir, Good Morning\n",
      "Hello Mujahid, Good Morning\n",
      "Hello Arbaaz, Good Morning\n"
     ]
    }
   ],
   "source": [
    "def greet(*names, msg= 'Good Morning'):\n",
    "    '''\n",
    "    This function greets all persons in the name tuple\n",
    "    '''\n",
    "    print(names)\n",
    "    \n",
    "    for name in names:\n",
    "        print('Hello {0}, {1}'.format(name, msg))\n",
    "\n",
    "# call the function with arguments\n",
    "greet('Sohel', 'Rashid', 'Adil', 'Zaid', 'Mudassir', 'Mujahid', 'Arbaaz')  "
   ]
  }
 ],
 "metadata": {
  "kernelspec": {
   "display_name": "Python 3",
   "language": "python",
   "name": "python3"
  },
  "language_info": {
   "codemirror_mode": {
    "name": "ipython",
    "version": 3
   },
   "file_extension": ".py",
   "mimetype": "text/x-python",
   "name": "python",
   "nbconvert_exporter": "python",
   "pygments_lexer": "ipython3",
   "version": "3.7.6"
  }
 },
 "nbformat": 4,
 "nbformat_minor": 4
}
