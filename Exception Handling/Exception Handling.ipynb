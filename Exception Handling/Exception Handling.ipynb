{
 "cells": [
  {
   "cell_type": "markdown",
   "metadata": {},
   "source": [
    "# Errors and Exception Handling"
   ]
  },
  {
   "cell_type": "markdown",
   "metadata": {},
   "source": [
    "In this section, we will learn about Errors and Exceptions Handling in Python."
   ]
  },
  {
   "cell_type": "markdown",
   "metadata": {},
   "source": [
    "#### What is Exception?\n",
    "\n",
    "An exception is an event, which occurs during the execution of a program that disrupts the normal flow of the program's instructions. \n",
    "In general, when a Python script encounters a situation that it cannot cope with, it raises an exception.\n",
    "An exception is a Python object that represents an error."
   ]
  },
  {
   "cell_type": "code",
   "execution_count": 1,
   "metadata": {},
   "outputs": [
    {
     "data": {
      "text/plain": [
       "'C:\\\\Users\\\\DELL\\\\Desktop\\\\Great Learning\\\\Python\\\\Exception Handling'"
      ]
     },
     "execution_count": 1,
     "metadata": {},
     "output_type": "execute_result"
    }
   ],
   "source": [
    "pwd()"
   ]
  },
  {
   "cell_type": "markdown",
   "metadata": {},
   "source": [
    "*Some Examples of Erros:*"
   ]
  },
  {
   "cell_type": "code",
   "execution_count": 2,
   "metadata": {},
   "outputs": [
    {
     "ename": "SyntaxError",
     "evalue": "invalid syntax (<ipython-input-2-3e28e520013d>, line 1)",
     "output_type": "error",
     "traceback": [
      "\u001b[1;36m  File \u001b[1;32m\"<ipython-input-2-3e28e520013d>\"\u001b[1;36m, line \u001b[1;32m1\u001b[0m\n\u001b[1;33m    if a < 3\u001b[0m\n\u001b[1;37m            ^\u001b[0m\n\u001b[1;31mSyntaxError\u001b[0m\u001b[1;31m:\u001b[0m invalid syntax\n"
     ]
    }
   ],
   "source": [
    "if a < 3"
   ]
  },
  {
   "cell_type": "code",
   "execution_count": 3,
   "metadata": {},
   "outputs": [
    {
     "ename": "FileNotFoundError",
     "evalue": "[Errno 2] No such file or directory: 'test.txt'",
     "output_type": "error",
     "traceback": [
      "\u001b[1;31m---------------------------------------------------------------------------\u001b[0m",
      "\u001b[1;31mFileNotFoundError\u001b[0m                         Traceback (most recent call last)",
      "\u001b[1;32m<ipython-input-3-9b0596a0f2ca>\u001b[0m in \u001b[0;36m<module>\u001b[1;34m\u001b[0m\n\u001b[1;32m----> 1\u001b[1;33m \u001b[0mopen\u001b[0m\u001b[1;33m(\u001b[0m\u001b[1;34m'test.txt'\u001b[0m\u001b[1;33m)\u001b[0m\u001b[1;33m\u001b[0m\u001b[1;33m\u001b[0m\u001b[0m\n\u001b[0m",
      "\u001b[1;31mFileNotFoundError\u001b[0m: [Errno 2] No such file or directory: 'test.txt'"
     ]
    }
   ],
   "source": [
    "open('test.txt')"
   ]
  },
  {
   "cell_type": "code",
   "execution_count": 4,
   "metadata": {},
   "outputs": [],
   "source": [
    "# creating test file\n",
    "\n",
    "z = open('test007.txt', 'w')\n",
    "z.write(\"This is a new line\")\n",
    "z.close()"
   ]
  },
  {
   "cell_type": "code",
   "execution_count": 5,
   "metadata": {},
   "outputs": [
    {
     "ename": "UnsupportedOperation",
     "evalue": "not writable",
     "output_type": "error",
     "traceback": [
      "\u001b[1;31m---------------------------------------------------------------------------\u001b[0m",
      "\u001b[1;31mUnsupportedOperation\u001b[0m                      Traceback (most recent call last)",
      "\u001b[1;32m<ipython-input-5-963909acab31>\u001b[0m in \u001b[0;36m<module>\u001b[1;34m\u001b[0m\n\u001b[0;32m      1\u001b[0m \u001b[0mf\u001b[0m \u001b[1;33m=\u001b[0m \u001b[0mopen\u001b[0m\u001b[1;33m(\u001b[0m\u001b[1;34m'test007.txt'\u001b[0m\u001b[1;33m)\u001b[0m\u001b[1;33m\u001b[0m\u001b[1;33m\u001b[0m\u001b[0m\n\u001b[1;32m----> 2\u001b[1;33m \u001b[0mf\u001b[0m\u001b[1;33m.\u001b[0m\u001b[0mwrite\u001b[0m\u001b[1;33m(\u001b[0m\u001b[1;34m\"We will get an Error\"\u001b[0m\u001b[1;33m)\u001b[0m\u001b[1;33m\u001b[0m\u001b[1;33m\u001b[0m\u001b[0m\n\u001b[0m",
      "\u001b[1;31mUnsupportedOperation\u001b[0m: not writable"
     ]
    }
   ],
   "source": [
    "f = open('test007.txt')\n",
    "f.write(\"We will get an Error\")"
   ]
  },
  {
   "cell_type": "code",
   "execution_count": 6,
   "metadata": {},
   "outputs": [
    {
     "ename": "ZeroDivisionError",
     "evalue": "division by zero",
     "output_type": "error",
     "traceback": [
      "\u001b[1;31m---------------------------------------------------------------------------\u001b[0m",
      "\u001b[1;31mZeroDivisionError\u001b[0m                         Traceback (most recent call last)",
      "\u001b[1;32m<ipython-input-6-0106664d39e8>\u001b[0m in \u001b[0;36m<module>\u001b[1;34m\u001b[0m\n\u001b[1;32m----> 1\u001b[1;33m \u001b[1;36m5\u001b[0m\u001b[1;33m/\u001b[0m\u001b[1;36m0\u001b[0m\u001b[1;33m\u001b[0m\u001b[1;33m\u001b[0m\u001b[0m\n\u001b[0m",
      "\u001b[1;31mZeroDivisionError\u001b[0m: division by zero"
     ]
    }
   ],
   "source": [
    "5/0"
   ]
  },
  {
   "cell_type": "code",
   "execution_count": 7,
   "metadata": {},
   "outputs": [
    {
     "ename": "TypeError",
     "evalue": "can only concatenate str (not \"int\") to str",
     "output_type": "error",
     "traceback": [
      "\u001b[1;31m---------------------------------------------------------------------------\u001b[0m",
      "\u001b[1;31mTypeError\u001b[0m                                 Traceback (most recent call last)",
      "\u001b[1;32m<ipython-input-7-b9c5c4d66687>\u001b[0m in \u001b[0;36m<module>\u001b[1;34m\u001b[0m\n\u001b[1;32m----> 1\u001b[1;33m \u001b[1;34m\"Sohel\"\u001b[0m \u001b[1;33m+\u001b[0m \u001b[1;36m10\u001b[0m\u001b[1;33m\u001b[0m\u001b[1;33m\u001b[0m\u001b[0m\n\u001b[0m",
      "\u001b[1;31mTypeError\u001b[0m: can only concatenate str (not \"int\") to str"
     ]
    }
   ],
   "source": [
    "\"Sohel\" + 10"
   ]
  },
  {
   "cell_type": "code",
   "execution_count": 8,
   "metadata": {},
   "outputs": [
    {
     "ename": "SyntaxError",
     "evalue": "EOL while scanning string literal (<ipython-input-8-126035ba983d>, line 1)",
     "output_type": "error",
     "traceback": [
      "\u001b[1;36m  File \u001b[1;32m\"<ipython-input-8-126035ba983d>\"\u001b[1;36m, line \u001b[1;32m1\u001b[0m\n\u001b[1;33m    print('hello)\u001b[0m\n\u001b[1;37m                 ^\u001b[0m\n\u001b[1;31mSyntaxError\u001b[0m\u001b[1;31m:\u001b[0m EOL while scanning string literal\n"
     ]
    }
   ],
   "source": [
    "print('hello)"
   ]
  },
  {
   "cell_type": "code",
   "execution_count": 9,
   "metadata": {},
   "outputs": [
    {
     "data": {
      "text/plain": [
       "['ArithmeticError',\n",
       " 'AssertionError',\n",
       " 'AttributeError',\n",
       " 'BaseException',\n",
       " 'BlockingIOError',\n",
       " 'BrokenPipeError',\n",
       " 'BufferError',\n",
       " 'BytesWarning',\n",
       " 'ChildProcessError',\n",
       " 'ConnectionAbortedError',\n",
       " 'ConnectionError',\n",
       " 'ConnectionRefusedError',\n",
       " 'ConnectionResetError',\n",
       " 'DeprecationWarning',\n",
       " 'EOFError',\n",
       " 'Ellipsis',\n",
       " 'EnvironmentError',\n",
       " 'Exception',\n",
       " 'False',\n",
       " 'FileExistsError',\n",
       " 'FileNotFoundError',\n",
       " 'FloatingPointError',\n",
       " 'FutureWarning',\n",
       " 'GeneratorExit',\n",
       " 'IOError',\n",
       " 'ImportError',\n",
       " 'ImportWarning',\n",
       " 'IndentationError',\n",
       " 'IndexError',\n",
       " 'InterruptedError',\n",
       " 'IsADirectoryError',\n",
       " 'KeyError',\n",
       " 'KeyboardInterrupt',\n",
       " 'LookupError',\n",
       " 'MemoryError',\n",
       " 'ModuleNotFoundError',\n",
       " 'NameError',\n",
       " 'None',\n",
       " 'NotADirectoryError',\n",
       " 'NotImplemented',\n",
       " 'NotImplementedError',\n",
       " 'OSError',\n",
       " 'OverflowError',\n",
       " 'PendingDeprecationWarning',\n",
       " 'PermissionError',\n",
       " 'ProcessLookupError',\n",
       " 'RecursionError',\n",
       " 'ReferenceError',\n",
       " 'ResourceWarning',\n",
       " 'RuntimeError',\n",
       " 'RuntimeWarning',\n",
       " 'StopAsyncIteration',\n",
       " 'StopIteration',\n",
       " 'SyntaxError',\n",
       " 'SyntaxWarning',\n",
       " 'SystemError',\n",
       " 'SystemExit',\n",
       " 'TabError',\n",
       " 'TimeoutError',\n",
       " 'True',\n",
       " 'TypeError',\n",
       " 'UnboundLocalError',\n",
       " 'UnicodeDecodeError',\n",
       " 'UnicodeEncodeError',\n",
       " 'UnicodeError',\n",
       " 'UnicodeTranslateError',\n",
       " 'UnicodeWarning',\n",
       " 'UserWarning',\n",
       " 'ValueError',\n",
       " 'Warning',\n",
       " 'WindowsError',\n",
       " 'ZeroDivisionError',\n",
       " '__IPYTHON__',\n",
       " '__build_class__',\n",
       " '__debug__',\n",
       " '__doc__',\n",
       " '__import__',\n",
       " '__loader__',\n",
       " '__name__',\n",
       " '__package__',\n",
       " '__spec__',\n",
       " 'abs',\n",
       " 'all',\n",
       " 'any',\n",
       " 'ascii',\n",
       " 'bin',\n",
       " 'bool',\n",
       " 'breakpoint',\n",
       " 'bytearray',\n",
       " 'bytes',\n",
       " 'callable',\n",
       " 'chr',\n",
       " 'classmethod',\n",
       " 'compile',\n",
       " 'complex',\n",
       " 'copyright',\n",
       " 'credits',\n",
       " 'delattr',\n",
       " 'dict',\n",
       " 'dir',\n",
       " 'display',\n",
       " 'divmod',\n",
       " 'enumerate',\n",
       " 'eval',\n",
       " 'exec',\n",
       " 'filter',\n",
       " 'float',\n",
       " 'format',\n",
       " 'frozenset',\n",
       " 'get_ipython',\n",
       " 'getattr',\n",
       " 'globals',\n",
       " 'hasattr',\n",
       " 'hash',\n",
       " 'help',\n",
       " 'hex',\n",
       " 'id',\n",
       " 'input',\n",
       " 'int',\n",
       " 'isinstance',\n",
       " 'issubclass',\n",
       " 'iter',\n",
       " 'len',\n",
       " 'license',\n",
       " 'list',\n",
       " 'locals',\n",
       " 'map',\n",
       " 'max',\n",
       " 'memoryview',\n",
       " 'min',\n",
       " 'next',\n",
       " 'object',\n",
       " 'oct',\n",
       " 'open',\n",
       " 'ord',\n",
       " 'pow',\n",
       " 'print',\n",
       " 'property',\n",
       " 'range',\n",
       " 'repr',\n",
       " 'reversed',\n",
       " 'round',\n",
       " 'set',\n",
       " 'setattr',\n",
       " 'slice',\n",
       " 'sorted',\n",
       " 'staticmethod',\n",
       " 'str',\n",
       " 'sum',\n",
       " 'super',\n",
       " 'tuple',\n",
       " 'type',\n",
       " 'vars',\n",
       " 'zip']"
      ]
     },
     "execution_count": 9,
     "metadata": {},
     "output_type": "execute_result"
    }
   ],
   "source": [
    "# Python Built-in Exceptions\n",
    "\n",
    "dir(__builtins__)"
   ]
  },
  {
   "cell_type": "markdown",
   "metadata": {},
   "source": [
    "Note how we get a SyntaxError, with the further description that it was an End of Line Error (EOL) while scanning the string literal.This is specific enough for us to see that we forgot a single quote at the end of the line. Understanding of these various error types will help you debug your code much faster. \n",
    "\n",
    "This type of error and description is known as an Exception. Even if a statement or expression is syntactically correct, it may cause an error when an attempt is made to execute it. Errors detected during execution are called exceptions and are not unconditionally fatal.\n",
    "\n",
    "You can check out the full list of built-in exceptions [here](https://docs.python.org/2/library/exceptions.html). Now, let's see how to handle errors and exceptions in our own code."
   ]
  },
  {
   "cell_type": "code",
   "execution_count": 10,
   "metadata": {},
   "outputs": [
    {
     "name": "stdout",
     "output_type": "stream",
     "text": [
      "This is a new line\n"
     ]
    },
    {
     "ename": "UnsupportedOperation",
     "evalue": "not writable",
     "output_type": "error",
     "traceback": [
      "\u001b[1;31m---------------------------------------------------------------------------\u001b[0m",
      "\u001b[1;31mUnsupportedOperation\u001b[0m                      Traceback (most recent call last)",
      "\u001b[1;32m<ipython-input-10-7a996f279deb>\u001b[0m in \u001b[0;36m<module>\u001b[1;34m\u001b[0m\n\u001b[0;32m      1\u001b[0m \u001b[0mf\u001b[0m \u001b[1;33m=\u001b[0m \u001b[0mopen\u001b[0m\u001b[1;33m(\u001b[0m\u001b[1;34m'test007.txt'\u001b[0m\u001b[1;33m)\u001b[0m\u001b[1;33m\u001b[0m\u001b[1;33m\u001b[0m\u001b[0m\n\u001b[0;32m      2\u001b[0m \u001b[0mprint\u001b[0m\u001b[1;33m(\u001b[0m\u001b[0mf\u001b[0m\u001b[1;33m.\u001b[0m\u001b[0mread\u001b[0m\u001b[1;33m(\u001b[0m\u001b[1;33m)\u001b[0m\u001b[1;33m)\u001b[0m\u001b[1;33m\u001b[0m\u001b[1;33m\u001b[0m\u001b[0m\n\u001b[1;32m----> 3\u001b[1;33m \u001b[0mf\u001b[0m\u001b[1;33m.\u001b[0m\u001b[0mwrite\u001b[0m\u001b[1;33m(\u001b[0m\u001b[1;34m\"My name is Sohel\"\u001b[0m\u001b[1;33m)\u001b[0m\u001b[1;33m\u001b[0m\u001b[1;33m\u001b[0m\u001b[0m\n\u001b[0m\u001b[0;32m      4\u001b[0m \u001b[0mprint\u001b[0m\u001b[1;33m(\u001b[0m\u001b[1;34m\"This Operation is Correct\"\u001b[0m\u001b[1;33m)\u001b[0m\u001b[1;33m\u001b[0m\u001b[1;33m\u001b[0m\u001b[0m\n",
      "\u001b[1;31mUnsupportedOperation\u001b[0m: not writable"
     ]
    }
   ],
   "source": [
    "f = open('test007.txt')\n",
    "print(f.read())\n",
    "f.write(\"My name is Sohel\")\n",
    "print(\"This Operation is Correct\")"
   ]
  },
  {
   "cell_type": "markdown",
   "metadata": {},
   "source": [
    "The code has failed to execute itself in the line number 3 and hence that has also stopped the execution of line number 4"
   ]
  },
  {
   "cell_type": "code",
   "execution_count": 1,
   "metadata": {},
   "outputs": [
    {
     "name": "stdout",
     "output_type": "stream",
     "text": [
      "insert your integer: 5\n"
     ]
    },
    {
     "data": {
      "text/plain": [
       "1.0"
      ]
     },
     "execution_count": 1,
     "metadata": {},
     "output_type": "execute_result"
    }
   ],
   "source": [
    "b = int(input('insert your integer: '))\n",
    "\n",
    "a = 5/b\n",
    "a"
   ]
  },
  {
   "cell_type": "code",
   "execution_count": 2,
   "metadata": {},
   "outputs": [
    {
     "name": "stdout",
     "output_type": "stream",
     "text": [
      "insert your integer: 0\n"
     ]
    },
    {
     "ename": "ZeroDivisionError",
     "evalue": "division by zero",
     "output_type": "error",
     "traceback": [
      "\u001b[1;31m---------------------------------------------------------------------------\u001b[0m",
      "\u001b[1;31mZeroDivisionError\u001b[0m                         Traceback (most recent call last)",
      "\u001b[1;32m<ipython-input-2-824187accc76>\u001b[0m in \u001b[0;36m<module>\u001b[1;34m\u001b[0m\n\u001b[0;32m      1\u001b[0m \u001b[0mb\u001b[0m \u001b[1;33m=\u001b[0m \u001b[0mint\u001b[0m\u001b[1;33m(\u001b[0m\u001b[0minput\u001b[0m\u001b[1;33m(\u001b[0m\u001b[1;34m'insert your integer: '\u001b[0m\u001b[1;33m)\u001b[0m\u001b[1;33m)\u001b[0m\u001b[1;33m\u001b[0m\u001b[1;33m\u001b[0m\u001b[0m\n\u001b[0;32m      2\u001b[0m \u001b[1;33m\u001b[0m\u001b[0m\n\u001b[1;32m----> 3\u001b[1;33m \u001b[0ma\u001b[0m \u001b[1;33m=\u001b[0m \u001b[1;36m5\u001b[0m\u001b[1;33m/\u001b[0m\u001b[0mb\u001b[0m\u001b[1;33m\u001b[0m\u001b[1;33m\u001b[0m\u001b[0m\n\u001b[0m\u001b[0;32m      4\u001b[0m \u001b[0ma\u001b[0m\u001b[1;33m\u001b[0m\u001b[1;33m\u001b[0m\u001b[0m\n",
      "\u001b[1;31mZeroDivisionError\u001b[0m: division by zero"
     ]
    }
   ],
   "source": [
    "b = int(input('insert your integer: '))\n",
    "\n",
    "a = 5/b\n",
    "a"
   ]
  },
  {
   "cell_type": "markdown",
   "metadata": {},
   "source": [
    "#### Handling an exception\n",
    "\n",
    "If you have some suspicious code that may raise an exception, you can defend your program by placing the suspicious code in a try: block.\n",
    "\n",
    "After the try: block, include an except: statement, followed by a block of code which handles the problem as elegantly as possible."
   ]
  },
  {
   "cell_type": "markdown",
   "metadata": {},
   "source": [
    "#### Syntax:\n",
    "\n",
    "#### try and except\n",
    "\n",
    "The basic terminology and syntax used to handle errors in Python is the **try** and **except** statements. The code which can cause an exception to occur is put in the *try* block and the handling of the exception are the implemented in the *except* block of code. The syntax form is:\n",
    "\n",
    "    try:\n",
    "       You do your operations here...\n",
    "       ...\n",
    "    except ExceptionI:\n",
    "       If there is ExceptionI, then execute this block.\n",
    "    except ExceptionII:\n",
    "       If there is ExceptionII, then execute this block.\n",
    "       ...\n",
    "    else:\n",
    "       If there is no exception then execute this block. "
   ]
  },
  {
   "cell_type": "markdown",
   "metadata": {},
   "source": [
    "#### Here are few important points about the above-mentioned syntax:\n",
    "\n",
    "- A single try statement can have multiple except statements. This is useful when the try block contains statements that may throw different types of exceptions.\n",
    "\n",
    "\n",
    "- You can also provide a generic except clause, which handles any exception.\n",
    "\n",
    "\n",
    "- After the except clause(s), you can include an else-clause. The code in the else-block executes if the code in the try: block does not raise an exception.\n",
    "\n",
    "\n",
    "- The else-block is a good place for code that does not need the try: block's protection."
   ]
  },
  {
   "cell_type": "code",
   "execution_count": null,
   "metadata": {},
   "outputs": [],
   "source": [
    "# Using just except, we can check for any exception: \n",
    "# let's check out a sample code that opens and writes a file:"
   ]
  },
  {
   "cell_type": "code",
   "execution_count": 3,
   "metadata": {},
   "outputs": [
    {
     "ename": "SyntaxError",
     "evalue": "unexpected EOF while parsing (<ipython-input-3-2fed73f7ea2a>, line 7)",
     "output_type": "error",
     "traceback": [
      "\u001b[1;36m  File \u001b[1;32m\"<ipython-input-3-2fed73f7ea2a>\"\u001b[1;36m, line \u001b[1;32m7\u001b[0m\n\u001b[1;33m    # the try block won't make any sense without the except block\u001b[0m\n\u001b[1;37m                                                                 ^\u001b[0m\n\u001b[1;31mSyntaxError\u001b[0m\u001b[1;31m:\u001b[0m unexpected EOF while parsing\n"
     ]
    }
   ],
   "source": [
    "try:\n",
    "    f = open('test007.txt')\n",
    "    f.read()\n",
    "    \n",
    "# whenever you write a try block you should also use an except block,\n",
    "# otherwise you will get an error and\n",
    "# the try block won't make any sense without the except block"
   ]
  },
  {
   "cell_type": "code",
   "execution_count": 4,
   "metadata": {},
   "outputs": [],
   "source": [
    "# Same code with proper syntax\n",
    "\n",
    "try:\n",
    "    f = open('test007.txt')\n",
    "    f.read()\n",
    "    \n",
    "except:\n",
    "    pass"
   ]
  },
  {
   "cell_type": "code",
   "execution_count": 5,
   "metadata": {},
   "outputs": [
    {
     "name": "stdout",
     "output_type": "stream",
     "text": [
      "This is a new line\n"
     ]
    }
   ],
   "source": [
    "# If the code doesn't have any issues/errors it won't enter into the except block\n",
    "\n",
    "try:\n",
    "    f = open('test007.txt')\n",
    "    print(f.read())\n",
    "    \n",
    "except:\n",
    "    print(\"This code is not correct\")"
   ]
  },
  {
   "cell_type": "code",
   "execution_count": 6,
   "metadata": {},
   "outputs": [
    {
     "name": "stdout",
     "output_type": "stream",
     "text": [
      "This code is not correct\n"
     ]
    }
   ],
   "source": [
    "# The except block will be considered only when there is some \n",
    "# issues/errors in the code\n",
    "\n",
    "try:\n",
    "    f = open('test007.txt')\n",
    "    print(f.write(\"gfdhsdjs\"))\n",
    "    \n",
    "except:\n",
    "    print(\"This code is not correct\")"
   ]
  },
  {
   "cell_type": "code",
   "execution_count": 7,
   "metadata": {},
   "outputs": [
    {
     "ename": "UnsupportedOperation",
     "evalue": "not writable",
     "output_type": "error",
     "traceback": [
      "\u001b[1;31m---------------------------------------------------------------------------\u001b[0m",
      "\u001b[1;31mUnsupportedOperation\u001b[0m                      Traceback (most recent call last)",
      "\u001b[1;32m<ipython-input-7-381cc6f2a49e>\u001b[0m in \u001b[0;36m<module>\u001b[1;34m\u001b[0m\n\u001b[0;32m      1\u001b[0m \u001b[0mf\u001b[0m \u001b[1;33m=\u001b[0m \u001b[0mopen\u001b[0m\u001b[1;33m(\u001b[0m\u001b[1;34m'test007.txt'\u001b[0m\u001b[1;33m)\u001b[0m\u001b[1;33m\u001b[0m\u001b[1;33m\u001b[0m\u001b[0m\n\u001b[1;32m----> 2\u001b[1;33m \u001b[0mprint\u001b[0m\u001b[1;33m(\u001b[0m\u001b[0mf\u001b[0m\u001b[1;33m.\u001b[0m\u001b[0mwrite\u001b[0m\u001b[1;33m(\u001b[0m\u001b[1;34m\"gfdhsdjs\"\u001b[0m\u001b[1;33m)\u001b[0m\u001b[1;33m)\u001b[0m \u001b[1;31m# The error is different from the above one\u001b[0m\u001b[1;33m\u001b[0m\u001b[1;33m\u001b[0m\u001b[0m\n\u001b[0m",
      "\u001b[1;31mUnsupportedOperation\u001b[0m: not writable"
     ]
    }
   ],
   "source": [
    "f = open('test007.txt')\n",
    "print(f.write(\"gfdhsdjs\")) # The error is different from the above one"
   ]
  },
  {
   "cell_type": "code",
   "execution_count": 8,
   "metadata": {},
   "outputs": [
    {
     "name": "stdout",
     "output_type": "stream",
     "text": [
      "This code is not correct\n",
      "Start This instead!!!\n"
     ]
    }
   ],
   "source": [
    "try:\n",
    "    f = open('test007.txt')\n",
    "    print(f.write(\"gfdhsdjs\"))\n",
    "    \n",
    "except:\n",
    "    print(\"This code is not correct\")\n",
    "print(\"Start This instead!!!\") \n",
    "\n",
    "# even though we had an error in the 2nd line,\n",
    "# our code executed till the end\n",
    "# hence it didn't affect the flow of our code"
   ]
  },
  {
   "cell_type": "code",
   "execution_count": 9,
   "metadata": {},
   "outputs": [
    {
     "name": "stdout",
     "output_type": "stream",
     "text": [
      "This code is not correct\n",
      "insert your integer: 1\n",
      "6.0\n"
     ]
    }
   ],
   "source": [
    "# Multiple try blocks\n",
    "\n",
    "try:\n",
    "    f = open('test007.txt')\n",
    "    print(f.write(\"gfdhsdjs\"))\n",
    "    \n",
    "except:\n",
    "    print(\"This code is not correct\")\n",
    "    \n",
    "try:\n",
    "    b = int(input('insert your integer: '))\n",
    "    c = 6/b\n",
    "    print(c)\n",
    "    \n",
    "except:\n",
    "    print('Sorry!! not able to execute this')"
   ]
  },
  {
   "cell_type": "code",
   "execution_count": 10,
   "metadata": {},
   "outputs": [
    {
     "name": "stdout",
     "output_type": "stream",
     "text": [
      "This code is not correct\n",
      "insert your integer: 0\n",
      "Sorry!! not able to execute this\n"
     ]
    }
   ],
   "source": [
    "# Multiple try blocks\n",
    "\n",
    "try:\n",
    "    f = open('test007.txt')\n",
    "    print(f.write(\"gfdhsdjs\"))\n",
    "    \n",
    "except:\n",
    "    print(\"This code is not correct\")\n",
    "    \n",
    "try:\n",
    "    b = int(input('insert your integer: '))\n",
    "    c = 6/b\n",
    "    print(c)\n",
    "    \n",
    "except:\n",
    "    print('Sorry!! not able to execute this')"
   ]
  },
  {
   "cell_type": "code",
   "execution_count": 11,
   "metadata": {},
   "outputs": [
    {
     "name": "stdout",
     "output_type": "stream",
     "text": [
      "This code is not correct\n",
      "insert your integer: 1\n",
      "6.0\n"
     ]
    }
   ],
   "source": [
    "# nested try blocks\n",
    "\n",
    "try:\n",
    "    f = open('test21.txt')\n",
    "    print(f.write(\"gfdhsdjs\"))\n",
    "    \n",
    "    try:\n",
    "        c = int(input())\n",
    "        a = 'xyz' + c\n",
    "        \n",
    "    except:\n",
    "        print('This is a nested try block')\n",
    "        \n",
    "except:\n",
    "        print('This code is not correct')\n",
    "        \n",
    "try:\n",
    "    b = int(input('insert your integer: '))\n",
    "    c = 6/b\n",
    "    print(c)\n",
    "    \n",
    "except:\n",
    "    print('Sorry!! not able to execute this')"
   ]
  },
  {
   "cell_type": "code",
   "execution_count": 2,
   "metadata": {},
   "outputs": [
    {
     "name": "stdout",
     "output_type": "stream",
     "text": [
      "This code is not correct\n",
      "insert your integer: 0\n",
      "Sorry!! not able to execute this\n"
     ]
    }
   ],
   "source": [
    "# nested try blocks\n",
    "\n",
    "try:\n",
    "    f = open('test21.txt')\n",
    "    print(f.write(\"gfdhsdjs\"))\n",
    "    \n",
    "    try:\n",
    "        c = int(input())\n",
    "        a = 'xyz' + c\n",
    "        \n",
    "    except:\n",
    "        print('This is a nested try block')\n",
    "        \n",
    "except:\n",
    "        print('This code is not correct')\n",
    "        \n",
    "try:\n",
    "    b = int(input('insert your integer: '))\n",
    "    c = 6/b\n",
    "    print(c)\n",
    "    \n",
    "except:\n",
    "    print('Sorry!! not able to execute this')"
   ]
  },
  {
   "cell_type": "code",
   "execution_count": 3,
   "metadata": {},
   "outputs": [
    {
     "name": "stdout",
     "output_type": "stream",
     "text": [
      "This code is not correct\n",
      "Enter something: 5\n",
      "This is a nested try block\n",
      "insert your integer: 1\n",
      "6.0\n"
     ]
    }
   ],
   "source": [
    "# nested try blocks in except block\n",
    "\n",
    "try:\n",
    "    f = open('test21.txt')\n",
    "    print(f.read(\"gfdhsdjs\"))\n",
    "    \n",
    "except:\n",
    "    print('This code is not correct')\n",
    "    \n",
    "    try:\n",
    "        c = int(input('Enter something: '))\n",
    "        a = 'xyz' + c\n",
    "        \n",
    "    except:\n",
    "        print('This is a nested try block')\n",
    "        \n",
    "try:\n",
    "    b = int(input('insert your integer: '))\n",
    "    c = 6/b\n",
    "    print(c)\n",
    "    \n",
    "except:\n",
    "    print('Sorry!! not able to execute this')"
   ]
  },
  {
   "cell_type": "code",
   "execution_count": 4,
   "metadata": {},
   "outputs": [
    {
     "name": "stdout",
     "output_type": "stream",
     "text": [
      "This code is not correct\n",
      "Enter something: 0\n",
      "This is a nested try block\n",
      "insert your integer: 0\n",
      "Sorry!! not able to execute this\n"
     ]
    }
   ],
   "source": [
    "# nested try block in except block\n",
    "\n",
    "try:\n",
    "    f = open('test21.txt')\n",
    "    print(f.write(\"gfdhsdjs\"))\n",
    "    \n",
    "except:\n",
    "    print('This code is not correct')\n",
    "    \n",
    "    try:\n",
    "        c = int(input('Enter something: '))\n",
    "        a = 'xyz' + c\n",
    "        \n",
    "    except:\n",
    "        print('This is a nested try block')\n",
    "        \n",
    "try:\n",
    "    b = int(input('insert your integer: '))\n",
    "    c = 6/b\n",
    "    print(c)\n",
    "    \n",
    "except:\n",
    "    print('Sorry!! not able to execute this')"
   ]
  },
  {
   "cell_type": "code",
   "execution_count": 6,
   "metadata": {},
   "outputs": [
    {
     "name": "stdout",
     "output_type": "stream",
     "text": [
      "This code is not correct\n",
      "Enter something: 1\n",
      "This is a nested try block\n",
      "insert your integer: 1\n",
      "6.0\n",
      "This will execute itself once try will execute successfully\n"
     ]
    }
   ],
   "source": [
    "# else block executes itself, after the entire code is executed completly/successfully \n",
    "\n",
    "try:\n",
    "    f = open('test21.txt')\n",
    "    print(f.write(\"gfdhsdjs\"))\n",
    "    \n",
    "except:\n",
    "    print('This code is not correct')\n",
    "    \n",
    "    try:\n",
    "        c = int(input('Enter something: '))\n",
    "        a = 'xyz' + c\n",
    "        \n",
    "    except:\n",
    "        print('This is a nested try block')\n",
    "        \n",
    "try:\n",
    "    b = int(input('insert your integer: '))\n",
    "    c = 6/b\n",
    "    print(c)\n",
    "    \n",
    "except:\n",
    "    print('Sorry!! not able to execute this')\n",
    "    \n",
    "else:\n",
    "    print('This will execute itself once try will execute successfully')\n",
    "\n",
    "# else will try to execute itself once try block executes itself successfully \n",
    "# If try is going to fail, for sure the code will execute the except part of the code"
   ]
  },
  {
   "cell_type": "code",
   "execution_count": 7,
   "metadata": {},
   "outputs": [
    {
     "name": "stdout",
     "output_type": "stream",
     "text": [
      "This code is not correct\n",
      "Enter something: 0\n",
      "This is a nested try block\n",
      "insert your integer: 0\n",
      "Sorry!! not able to execute this\n"
     ]
    }
   ],
   "source": [
    "# else block: executes itself, after the entire code is executed completly/successfully \n",
    "\n",
    "try:\n",
    "    f = open('test21.txt')\n",
    "    print(f.write(\"gfdhsdjs\"))\n",
    "    \n",
    "except:\n",
    "    print('This code is not correct')\n",
    "    \n",
    "    try:\n",
    "        c = int(input('Enter something: '))\n",
    "        a = 'xyz' + c\n",
    "        \n",
    "    except:\n",
    "        print('This is a nested try block')\n",
    "        \n",
    "try:\n",
    "    b = int(input('insert your integer: '))\n",
    "    c = 6/b\n",
    "    print(c)\n",
    "    \n",
    "except:\n",
    "    print('Sorry!! not able to execute this')\n",
    "    \n",
    "else:\n",
    "    print('This will execute itself once try will execute successfully')\n",
    "\n",
    "# else will try to execute itself once try block executes itself successfully \n",
    "# If try is going to fail, for sure the code will execute the except part of the code"
   ]
  },
  {
   "cell_type": "code",
   "execution_count": 8,
   "metadata": {},
   "outputs": [
    {
     "name": "stdout",
     "output_type": "stream",
     "text": [
      "This code is not correct\n",
      "Enter something: 1\n",
      "This is a nested try block\n",
      "insert your integer: 1\n",
      "6.0\n",
      "This will execute itself once try will execute successfully\n",
      "This is my finally block and it will execute itself in any condition\n"
     ]
    }
   ],
   "source": [
    "# finally block: It will be able to execute itself,\n",
    "# doesn't matter what has happened with the try or except block\n",
    "\n",
    "try:\n",
    "    f = open('test21.txt')\n",
    "    print(f.write(\"gfdhsdjs\"))\n",
    "    \n",
    "except:\n",
    "    print('This code is not correct')\n",
    "    \n",
    "    try:\n",
    "        c = int(input('Enter something: '))\n",
    "        a = 'xyz' + c\n",
    "        \n",
    "    except:\n",
    "        print('This is a nested try block')\n",
    "        \n",
    "try:\n",
    "    b = int(input('insert your integer: '))\n",
    "    c = 6/b\n",
    "    print(c)\n",
    "    \n",
    "except:\n",
    "    print('Sorry!! not able to execute this')\n",
    "    \n",
    "else:\n",
    "    print('This will execute itself once try will execute successfully')\n",
    "    \n",
    "finally:\n",
    "    print('This is my finally block and it will execute itself in any condition')\n",
    "\n",
    "# finally block is going to execute itself \n",
    "# even if try is going to fail,\n",
    "# even if except is going to fail,\n",
    "# even if everything is going to fail"
   ]
  },
  {
   "cell_type": "code",
   "execution_count": 9,
   "metadata": {},
   "outputs": [
    {
     "name": "stdout",
     "output_type": "stream",
     "text": [
      "This code is not correct\n",
      "Enter something: 0\n",
      "This is a nested try block\n",
      "insert your integer: 0\n",
      "Sorry!! not able to execute this\n",
      "This is my finally block and it will execute itself in any condition\n"
     ]
    }
   ],
   "source": [
    "# finally block: It will be able to execute itself,\n",
    "# doesn't matter what has happened with the try or except block\n",
    "\n",
    "try:\n",
    "    f = open('test21.txt')\n",
    "    print(f.write(\"gfdhsdjs\"))\n",
    "    \n",
    "except:\n",
    "    print('This code is not correct')\n",
    "    \n",
    "    try:\n",
    "        c = int(input('Enter something: '))\n",
    "        a = 'xyz' + c\n",
    "        \n",
    "    except:\n",
    "        print('This is a nested try block')\n",
    "        \n",
    "try:\n",
    "    b = int(input('insert your integer: '))\n",
    "    c = 6/b\n",
    "    print(c)\n",
    "    \n",
    "except:\n",
    "    print('Sorry!! not able to execute this')\n",
    "    \n",
    "else:\n",
    "    print('This will execute itself once try will execute successfully')\n",
    "    \n",
    "finally:\n",
    "    print('This is my finally block and it will execute itself in any condition')\n",
    "\n",
    "# finally block is going to execute itself \n",
    "# even if try is going to fail,\n",
    "# even if except is going to fail,\n",
    "# even if everything is going to fail"
   ]
  },
  {
   "cell_type": "code",
   "execution_count": 12,
   "metadata": {},
   "outputs": [
    {
     "name": "stdout",
     "output_type": "stream",
     "text": [
      "Enter a integer: 22\n",
      "Enter a integer: 0\n",
      "Invalid Input\n",
      "Enter a valid Input\n",
      "\n",
      "\n",
      "Enter a integer: 222\n",
      "Enter a integer: 11\n",
      "20.181818181818183\n"
     ]
    }
   ],
   "source": [
    "# write code such that the code should not terminate itself,\n",
    "# even if you enter wrong inputs\n",
    "# rather it should ask for the inputs untill you enter the appropriate inputs.\n",
    "\n",
    "while True:\n",
    "    try:\n",
    "        a = int(input('Enter a integer: '))\n",
    "        b = int(input('Enter a integer: '))\n",
    "        result = a/b\n",
    "        print(result)\n",
    "        break\n",
    "        \n",
    "    except:\n",
    "        print('Invalid Input')\n",
    "        print('Enter a valid Input')\n",
    "        print('\\n')"
   ]
  },
  {
   "cell_type": "markdown",
   "metadata": {},
   "source": [
    "## Using System Generated Exceptions"
   ]
  },
  {
   "cell_type": "code",
   "execution_count": 29,
   "metadata": {},
   "outputs": [
    {
     "ename": "UnsupportedOperation",
     "evalue": "not writable",
     "output_type": "error",
     "traceback": [
      "\u001b[1;31m---------------------------------------------------------------------------\u001b[0m",
      "\u001b[1;31mUnsupportedOperation\u001b[0m                      Traceback (most recent call last)",
      "\u001b[1;32m<ipython-input-29-f8ebcccfc656>\u001b[0m in \u001b[0;36m<module>\u001b[1;34m\u001b[0m\n\u001b[0;32m      1\u001b[0m \u001b[0mf\u001b[0m \u001b[1;33m=\u001b[0m \u001b[0mopen\u001b[0m\u001b[1;33m(\u001b[0m\u001b[1;34m'test007.txt'\u001b[0m\u001b[1;33m,\u001b[0m\u001b[1;34m'r'\u001b[0m\u001b[1;33m)\u001b[0m\u001b[1;33m\u001b[0m\u001b[1;33m\u001b[0m\u001b[0m\n\u001b[1;32m----> 2\u001b[1;33m \u001b[0mf\u001b[0m\u001b[1;33m.\u001b[0m\u001b[0mwrite\u001b[0m\u001b[1;33m(\u001b[0m\u001b[1;34m'Test write this'\u001b[0m\u001b[1;33m)\u001b[0m\u001b[1;33m\u001b[0m\u001b[1;33m\u001b[0m\u001b[0m\n\u001b[0m",
      "\u001b[1;31mUnsupportedOperation\u001b[0m: not writable"
     ]
    }
   ],
   "source": [
    "f = open('test007.txt','r')\n",
    "f.write('Test write this')"
   ]
  },
  {
   "cell_type": "code",
   "execution_count": 30,
   "metadata": {},
   "outputs": [
    {
     "ename": "ZeroDivisionError",
     "evalue": "division by zero",
     "output_type": "error",
     "traceback": [
      "\u001b[1;31m---------------------------------------------------------------------------\u001b[0m",
      "\u001b[1;31mZeroDivisionError\u001b[0m                         Traceback (most recent call last)",
      "\u001b[1;32m<ipython-input-30-0106664d39e8>\u001b[0m in \u001b[0;36m<module>\u001b[1;34m\u001b[0m\n\u001b[1;32m----> 1\u001b[1;33m \u001b[1;36m5\u001b[0m\u001b[1;33m/\u001b[0m\u001b[1;36m0\u001b[0m\u001b[1;33m\u001b[0m\u001b[1;33m\u001b[0m\u001b[0m\n\u001b[0m",
      "\u001b[1;31mZeroDivisionError\u001b[0m: division by zero"
     ]
    }
   ],
   "source": [
    "5/0"
   ]
  },
  {
   "cell_type": "code",
   "execution_count": 51,
   "metadata": {},
   "outputs": [
    {
     "name": "stdout",
     "output_type": "stream",
     "text": [
      "not writable\n"
     ]
    }
   ],
   "source": [
    "try:\n",
    "    f = open('test007.txt','r')\n",
    "    f.write('Test write this')\n",
    "    \n",
    "except Exception as e:\n",
    "    # This will shown the system generated message for the exception\n",
    "    print(e)\n",
    "    \n",
    "else:\n",
    "    print(\"Content written successfully\")\n",
    "    f.close()"
   ]
  },
  {
   "cell_type": "code",
   "execution_count": 32,
   "metadata": {},
   "outputs": [
    {
     "name": "stdout",
     "output_type": "stream",
     "text": [
      "This block is having some kind of issue: not writable\n"
     ]
    }
   ],
   "source": [
    "try:\n",
    "    f = open('test007.txt','r')\n",
    "    f.write('Test write this')\n",
    "    \n",
    "except Exception as e: # Exception super-class\n",
    "    # This will shown the our own exception and the system generated message for the exception\n",
    "    print('This block is having some kind of issue:',e)\n",
    "    \n",
    "else:\n",
    "    print(\"Content written successfully\")\n",
    "    f.close()"
   ]
  },
  {
   "cell_type": "code",
   "execution_count": 33,
   "metadata": {},
   "outputs": [
    {
     "name": "stdout",
     "output_type": "stream",
     "text": [
      "This block is having some kind of issue: division by zero\n"
     ]
    }
   ],
   "source": [
    "try:\n",
    "    5/0\n",
    "    \n",
    "except Exception as e: # Exception super-class\n",
    "    # This will shown the our own exception and the system generated message for the exception\n",
    "    print('This block is having some kind of issue:',e)"
   ]
  },
  {
   "cell_type": "code",
   "execution_count": 36,
   "metadata": {},
   "outputs": [
    {
     "name": "stdout",
     "output_type": "stream",
     "text": [
      "Error: Could not find file or read data\n"
     ]
    }
   ],
   "source": [
    "try:\n",
    "    f = open('test007.txt','r')\n",
    "    f.write('Test write this')\n",
    "    \n",
    "except IOError:\n",
    "    # This will only check for an IOError exception and then execute this print statement\n",
    "    print(\"Error: Could not find file or read data\")\n",
    "    \n",
    "else:\n",
    "    print(\"Content written successfully\")\n",
    "    f.close()"
   ]
  },
  {
   "cell_type": "code",
   "execution_count": 37,
   "metadata": {},
   "outputs": [
    {
     "name": "stdout",
     "output_type": "stream",
     "text": [
      "Content written successfully\n"
     ]
    }
   ],
   "source": [
    "try:\n",
    "    f = open('test007.txt','w')\n",
    "    f.write('Test write this')\n",
    "    \n",
    "except IOError:\n",
    "    # This will only check for an IOError exception and then execute this print statement\n",
    "    print(\"Error: Could not find file or read data\")\n",
    "    \n",
    "else:\n",
    "    print(\"Content written successfully\")\n",
    "    f.close()"
   ]
  },
  {
   "cell_type": "code",
   "execution_count": 38,
   "metadata": {},
   "outputs": [
    {
     "name": "stdout",
     "output_type": "stream",
     "text": [
      "Enter a number: 11\n",
      "Enter a number: 1\n",
      "11.0\n"
     ]
    }
   ],
   "source": [
    "try:\n",
    "    a = int(input('Enter a number: '))\n",
    "    b = int(input('Enter a number: '))\n",
    "    c = a/b\n",
    "    print(c)\n",
    "    \n",
    "except Exception as e:\n",
    "    print(\"There is an ERROR in my code:\", e)"
   ]
  },
  {
   "cell_type": "code",
   "execution_count": 39,
   "metadata": {},
   "outputs": [
    {
     "name": "stdout",
     "output_type": "stream",
     "text": [
      "Enter a number: 1\n",
      "Enter a number: 0\n",
      "There is an ERROR in my code: division by zero\n"
     ]
    }
   ],
   "source": [
    "try:\n",
    "    a = int(input('Enter a number: '))\n",
    "    b = int(input('Enter a number: '))\n",
    "    c = a/b\n",
    "    print(c)\n",
    "    \n",
    "except Exception as e:\n",
    "    print(\"There is an ERROR in my code:\", e)"
   ]
  },
  {
   "cell_type": "code",
   "execution_count": 40,
   "metadata": {},
   "outputs": [
    {
     "name": "stdout",
     "output_type": "stream",
     "text": [
      "Enter a number: 4\n",
      "Enter a number: 1\n"
     ]
    }
   ],
   "source": [
    "a = int(input('Enter a number: '))\n",
    "b = int(input('Enter a number: '))\n",
    "c = a/b"
   ]
  },
  {
   "cell_type": "code",
   "execution_count": 52,
   "metadata": {},
   "outputs": [
    {
     "name": "stdout",
     "output_type": "stream",
     "text": [
      "Enter a number: 44\n",
      "Enter a number: 4\n",
      "11.0\n"
     ]
    }
   ],
   "source": [
    "try:\n",
    "    a = int(input('Enter a number: '))\n",
    "    b = int(input('Enter a number: '))\n",
    "    c = a/b\n",
    "    print(c)\n",
    "    \n",
    "except ValueError: # one of the sub-class of our super-class exception\n",
    "    print(\"There is an ERROR in my code\")"
   ]
  },
  {
   "cell_type": "code",
   "execution_count": 53,
   "metadata": {},
   "outputs": [
    {
     "name": "stdout",
     "output_type": "stream",
     "text": [
      "Enter a number: 44\n",
      "Enter a number: aa\n",
      "There is an ERROR in my code\n"
     ]
    }
   ],
   "source": [
    "try:\n",
    "    a = int(input('Enter a number: '))\n",
    "    b = int(input('Enter a number: '))\n",
    "    c = a/b\n",
    "    print(c)\n",
    "    \n",
    "except ValueError: # one of the sub-class of our super-class exception\n",
    "    print(\"There is an ERROR in my code\")"
   ]
  },
  {
   "cell_type": "code",
   "execution_count": 43,
   "metadata": {},
   "outputs": [
    {
     "name": "stdout",
     "output_type": "stream",
     "text": [
      "Enter a number: 444\n",
      "Enter a number: as\n"
     ]
    },
    {
     "ename": "ValueError",
     "evalue": "invalid literal for int() with base 10: 'as'",
     "output_type": "error",
     "traceback": [
      "\u001b[1;31m---------------------------------------------------------------------------\u001b[0m",
      "\u001b[1;31mValueError\u001b[0m                                Traceback (most recent call last)",
      "\u001b[1;32m<ipython-input-43-15496709a3d0>\u001b[0m in \u001b[0;36m<module>\u001b[1;34m\u001b[0m\n\u001b[0;32m      6\u001b[0m \u001b[1;32mtry\u001b[0m\u001b[1;33m:\u001b[0m\u001b[1;33m\u001b[0m\u001b[1;33m\u001b[0m\u001b[0m\n\u001b[0;32m      7\u001b[0m     \u001b[0ma\u001b[0m \u001b[1;33m=\u001b[0m \u001b[0mint\u001b[0m\u001b[1;33m(\u001b[0m\u001b[0minput\u001b[0m\u001b[1;33m(\u001b[0m\u001b[1;34m'Enter a number: '\u001b[0m\u001b[1;33m)\u001b[0m\u001b[1;33m)\u001b[0m\u001b[1;33m\u001b[0m\u001b[1;33m\u001b[0m\u001b[0m\n\u001b[1;32m----> 8\u001b[1;33m     \u001b[0mb\u001b[0m \u001b[1;33m=\u001b[0m \u001b[0mint\u001b[0m\u001b[1;33m(\u001b[0m\u001b[0minput\u001b[0m\u001b[1;33m(\u001b[0m\u001b[1;34m'Enter a number: '\u001b[0m\u001b[1;33m)\u001b[0m\u001b[1;33m)\u001b[0m\u001b[1;33m\u001b[0m\u001b[1;33m\u001b[0m\u001b[0m\n\u001b[0m\u001b[0;32m      9\u001b[0m     \u001b[0mc\u001b[0m \u001b[1;33m=\u001b[0m \u001b[0ma\u001b[0m\u001b[1;33m/\u001b[0m\u001b[0mb\u001b[0m\u001b[1;33m\u001b[0m\u001b[1;33m\u001b[0m\u001b[0m\n\u001b[0;32m     10\u001b[0m     \u001b[0mprint\u001b[0m\u001b[1;33m(\u001b[0m\u001b[0mc\u001b[0m\u001b[1;33m)\u001b[0m\u001b[1;33m\u001b[0m\u001b[1;33m\u001b[0m\u001b[0m\n",
      "\u001b[1;31mValueError\u001b[0m: invalid literal for int() with base 10: 'as'"
     ]
    }
   ],
   "source": [
    "# It won't work, because here we are trying to handle IOError\n",
    "# but we are getting a ValueError instead\n",
    "# Hence when we use a sub-class for our calling an exception,\n",
    "# We need to be sure of what type of exception we are trying to solve\n",
    "\n",
    "try:\n",
    "    a = int(input('Enter a number: '))\n",
    "    b = int(input('Enter a number: '))\n",
    "    c = a/b\n",
    "    print(c)\n",
    "    \n",
    "except IOError: # one of the sub-class of our super-class\n",
    "    print(\"There is an ERROR in my code\")"
   ]
  },
  {
   "cell_type": "code",
   "execution_count": 50,
   "metadata": {},
   "outputs": [
    {
     "name": "stdout",
     "output_type": "stream",
     "text": [
      "Enter a number: 4\n",
      "Enter a number: 1\n",
      "4.0\n"
     ]
    }
   ],
   "source": [
    "# Handling Multiple Exceptions\n",
    "\n",
    "try:\n",
    "    a = int(input('Enter a number: '))\n",
    "    b = int(input('Enter a number: '))\n",
    "    c = a/b\n",
    "    print(c)\n",
    "    \n",
    "except IOError: # one of the sub-class of our super-class exception\n",
    "    print(\"There is an ERROR in my code\")\n",
    "    \n",
    "except ValueError: \n",
    "    print('This is a block for ValueError')"
   ]
  },
  {
   "cell_type": "code",
   "execution_count": 48,
   "metadata": {},
   "outputs": [
    {
     "name": "stdout",
     "output_type": "stream",
     "text": [
      "Enter a number: 44\n",
      "Enter a number: asdfd\n",
      "This is a block for ValueError\n"
     ]
    }
   ],
   "source": [
    "# Handling Multiple Exceptions\n",
    "\n",
    "try:\n",
    "    a = int(input('Enter a number: '))\n",
    "    b = int(input('Enter a number: '))\n",
    "    c = a/b\n",
    "    print(c)\n",
    "except IOError: # one of the sub-class of our super-class exception\n",
    "    print(\"There is a block for IOError\")\n",
    "    \n",
    "except SyntaxError:\n",
    "    print(\"There is a block for SyntaxError\")   \n",
    "    \n",
    "except ValueError: \n",
    "    print('This is a block for ValueError')"
   ]
  },
  {
   "cell_type": "code",
   "execution_count": 56,
   "metadata": {},
   "outputs": [
    {
     "name": "stdout",
     "output_type": "stream",
     "text": [
      "Enter a number: 4\n",
      "Enter a number: 4\n",
      "1.0\n"
     ]
    }
   ],
   "source": [
    "# Handling Multiple Exceptions while considering the hierarchy\n",
    "# It is not a good practice to mention a super-class in the first place\n",
    "\n",
    "try:\n",
    "    a = int(input('Enter a number: '))\n",
    "    b = int(input('Enter a number: '))\n",
    "    c = a/b\n",
    "    print(c)\n",
    "    \n",
    "except Exception:\n",
    "    print(\"This is a super class of Exception\")\n",
    "    \n",
    "except IOError: # one of the sub-class of our super-class exception\n",
    "    print(\"There is a block for IOError\")\n",
    "    \n",
    "except SyntaxError:\n",
    "    print(\"There is a block for SyntaxError\") \n",
    "    \n",
    "except ValueError: \n",
    "    print('This is a block for ValueError')"
   ]
  },
  {
   "cell_type": "code",
   "execution_count": 57,
   "metadata": {},
   "outputs": [
    {
     "name": "stdout",
     "output_type": "stream",
     "text": [
      "Enter a number: as\n",
      "This is a super class of Exception\n"
     ]
    }
   ],
   "source": [
    "# Handling Multiple Exceptions while considering the hierarchy\n",
    "# It is not a good practice to mention a super-class in the first place\n",
    "\n",
    "try:\n",
    "    a = int(input('Enter a number: '))\n",
    "    b = int(input('Enter a number: '))\n",
    "    c = a/b\n",
    "    print(c)\n",
    "    \n",
    "except Exception:\n",
    "    print(\"This is a super class of Exception\")\n",
    "    \n",
    "except IOError: # one of the sub-class of our super-class exception\n",
    "    print(\"There is a block for IOError\")\n",
    "    \n",
    "except SyntaxError:\n",
    "    print(\"There is a block for SyntaxError\")  \n",
    "    \n",
    "except ValueError: \n",
    "    print('This is a block for ValueError')"
   ]
  },
  {
   "cell_type": "code",
   "execution_count": 58,
   "metadata": {},
   "outputs": [
    {
     "name": "stdout",
     "output_type": "stream",
     "text": [
      "Enter a number: x\n",
      "This is a block for ValueError\n"
     ]
    }
   ],
   "source": [
    "# Handling Multiple Exceptions while considering the hierarchy\n",
    "# Instead mention the super-class in the last place\n",
    "\n",
    "try:\n",
    "    a = int(input('Enter a number: '))\n",
    "    b = int(input('Enter a number: '))\n",
    "    c = a/b\n",
    "    print(c)\n",
    "    \n",
    "except IOError: # one of the sub-class of our super-class exception\n",
    "    print(\"There is a block for IOError\")\n",
    "    \n",
    "except SyntaxError:\n",
    "    print(\"There is a block for SyntaxError\")    \n",
    "    \n",
    "except ValueError: \n",
    "    print('This is a block for ValueError')\n",
    "    \n",
    "except Exception:\n",
    "    print(\"This is a super class of Exception\")        "
   ]
  },
  {
   "cell_type": "code",
   "execution_count": 1,
   "metadata": {},
   "outputs": [
    {
     "name": "stdout",
     "output_type": "stream",
     "text": [
      "Enter a number: as\n",
      "There is a problem with my code\n"
     ]
    }
   ],
   "source": [
    "# Handling Multiple Exceptions in one line\n",
    "\n",
    "\n",
    "try:\n",
    "    a = int(input('Enter a number: '))\n",
    "    b = int(input('Enter a number: '))\n",
    "    c = a/b\n",
    "    print(c)\n",
    "    \n",
    "except (IOError, SyntaxError, ValueError):\n",
    "    print(\"There is a problem with my code\") "
   ]
  },
  {
   "cell_type": "code",
   "execution_count": 2,
   "metadata": {},
   "outputs": [
    {
     "name": "stdout",
     "output_type": "stream",
     "text": [
      "Enter a number: x\n"
     ]
    },
    {
     "ename": "ValueError",
     "evalue": "invalid literal for int() with base 10: 'x'",
     "output_type": "error",
     "traceback": [
      "\u001b[1;31m---------------------------------------------------------------------------\u001b[0m",
      "\u001b[1;31mValueError\u001b[0m                                Traceback (most recent call last)",
      "\u001b[1;32m<ipython-input-2-106517504ead>\u001b[0m in \u001b[0;36m<module>\u001b[1;34m\u001b[0m\n\u001b[0;32m      3\u001b[0m \u001b[1;33m\u001b[0m\u001b[0m\n\u001b[0;32m      4\u001b[0m \u001b[1;32mtry\u001b[0m\u001b[1;33m:\u001b[0m\u001b[1;33m\u001b[0m\u001b[1;33m\u001b[0m\u001b[0m\n\u001b[1;32m----> 5\u001b[1;33m     \u001b[0ma\u001b[0m \u001b[1;33m=\u001b[0m \u001b[0mint\u001b[0m\u001b[1;33m(\u001b[0m\u001b[0minput\u001b[0m\u001b[1;33m(\u001b[0m\u001b[1;34m'Enter a number: '\u001b[0m\u001b[1;33m)\u001b[0m\u001b[1;33m)\u001b[0m\u001b[1;33m\u001b[0m\u001b[1;33m\u001b[0m\u001b[0m\n\u001b[0m\u001b[0;32m      6\u001b[0m     \u001b[0mb\u001b[0m \u001b[1;33m=\u001b[0m \u001b[0mint\u001b[0m\u001b[1;33m(\u001b[0m\u001b[0minput\u001b[0m\u001b[1;33m(\u001b[0m\u001b[1;34m'Enter a number: '\u001b[0m\u001b[1;33m)\u001b[0m\u001b[1;33m)\u001b[0m\u001b[1;33m\u001b[0m\u001b[1;33m\u001b[0m\u001b[0m\n\u001b[0;32m      7\u001b[0m     \u001b[0mc\u001b[0m \u001b[1;33m=\u001b[0m \u001b[0ma\u001b[0m\u001b[1;33m/\u001b[0m\u001b[0mb\u001b[0m\u001b[1;33m\u001b[0m\u001b[1;33m\u001b[0m\u001b[0m\n",
      "\u001b[1;31mValueError\u001b[0m: invalid literal for int() with base 10: 'x'"
     ]
    }
   ],
   "source": [
    "# won't work\n",
    "\n",
    "\n",
    "try:\n",
    "    a = int(input('Enter a number: '))\n",
    "    b = int(input('Enter a number: '))\n",
    "    c = a/b\n",
    "    print(c)\n",
    "    \n",
    "except (IOError, SyntaxError):\n",
    "    print(\"There is a problem with my code\") "
   ]
  },
  {
   "cell_type": "code",
   "execution_count": 3,
   "metadata": {},
   "outputs": [
    {
     "name": "stdout",
     "output_type": "stream",
     "text": [
      "Enter a number: sss\n",
      "There is a problem with my code\n"
     ]
    }
   ],
   "source": [
    "# will work\n",
    "\n",
    "\n",
    "try:\n",
    "    a = int(input('Enter a number: '))\n",
    "    b = int(input('Enter a number: '))\n",
    "    c = a/b\n",
    "    print(c)\n",
    "    \n",
    "except (IOError, SyntaxError, Exception):\n",
    "    print(\"There is a problem with my code\") "
   ]
  },
  {
   "cell_type": "markdown",
   "metadata": {},
   "source": [
    "## Custom Exception"
   ]
  },
  {
   "cell_type": "markdown",
   "metadata": {},
   "source": [
    "Python has numerous built-in exceptions that force your program to output an error when something in the program goes wrong.\n",
    "\n",
    "However, sometimes you may need to create your own custom exceptions that serve your purpose.\n",
    "\n",
    "#### Creating Custom Exceptions\n",
    "\n",
    "In Python, users can define custom exceptions by creating a new class.\n",
    "\n",
    "This exception class has to be derived, either directly or indirectly, from the built-in Exception class.\n",
    "\n",
    "Most of the built-in exceptions are also derived from this class.\n"
   ]
  },
  {
   "cell_type": "code",
   "execution_count": 12,
   "metadata": {},
   "outputs": [
    {
     "data": {
      "text/plain": [
       "6.0"
      ]
     },
     "execution_count": 12,
     "metadata": {},
     "output_type": "execute_result"
    }
   ],
   "source": [
    "a = 6\n",
    "b = 1\n",
    "\n",
    "a/b"
   ]
  },
  {
   "cell_type": "code",
   "execution_count": 13,
   "metadata": {},
   "outputs": [
    {
     "ename": "ZeroDivisionError",
     "evalue": "division by zero",
     "output_type": "error",
     "traceback": [
      "\u001b[1;31m---------------------------------------------------------------------------\u001b[0m",
      "\u001b[1;31mZeroDivisionError\u001b[0m                         Traceback (most recent call last)",
      "\u001b[1;32m<ipython-input-13-b50e9d4c256c>\u001b[0m in \u001b[0;36m<module>\u001b[1;34m\u001b[0m\n\u001b[0;32m      2\u001b[0m \u001b[0mb\u001b[0m \u001b[1;33m=\u001b[0m \u001b[1;36m0\u001b[0m\u001b[1;33m\u001b[0m\u001b[1;33m\u001b[0m\u001b[0m\n\u001b[0;32m      3\u001b[0m \u001b[1;33m\u001b[0m\u001b[0m\n\u001b[1;32m----> 4\u001b[1;33m \u001b[0ma\u001b[0m\u001b[1;33m/\u001b[0m\u001b[0mb\u001b[0m\u001b[1;33m\u001b[0m\u001b[1;33m\u001b[0m\u001b[0m\n\u001b[0m",
      "\u001b[1;31mZeroDivisionError\u001b[0m: division by zero"
     ]
    }
   ],
   "source": [
    "a = 6\n",
    "b = 0\n",
    "\n",
    "a/b"
   ]
  },
  {
   "cell_type": "code",
   "execution_count": 14,
   "metadata": {},
   "outputs": [],
   "source": [
    "# Creating a custom exception\n",
    "# If b = 1, I want to raise an exception\n",
    "\n",
    "class DivisionByOne(Exception):  # inheriting from super-class\n",
    "    pass\n",
    "    "
   ]
  },
  {
   "cell_type": "code",
   "execution_count": 16,
   "metadata": {},
   "outputs": [
    {
     "name": "stdout",
     "output_type": "stream",
     "text": [
      "Enter a value for a as an Integer: 44\n",
      "Enter a value for b as an Integer: 4\n",
      "11.0\n"
     ]
    }
   ],
   "source": [
    "try:\n",
    "    a = int(input('Enter a value for a as an Integer: '))\n",
    "    b = int(input('Enter a value for b as an Integer: '))\n",
    "    \n",
    "    if b == 1:\n",
    "        raise DivisionByOne\n",
    "    c = a/b\n",
    "    print(c)\n",
    "    \n",
    "except DivisionByOne:\n",
    "    print('The input value of b was 1')"
   ]
  },
  {
   "cell_type": "code",
   "execution_count": 17,
   "metadata": {},
   "outputs": [
    {
     "name": "stdout",
     "output_type": "stream",
     "text": [
      "Enter a value for a as an Integer: 41\n",
      "Enter a value for b as an Integer: 1\n",
      "The input value of b was 1\n"
     ]
    }
   ],
   "source": [
    "try:\n",
    "    a = int(input('Enter a value for a as an Integer: '))\n",
    "    b = int(input('Enter a value for b as an Integer: '))\n",
    "    \n",
    "    if b == 1:\n",
    "        raise DivisionByOne\n",
    "    c = a/b\n",
    "    print(c)\n",
    "    \n",
    "except DivisionByOne:\n",
    "    print('The input value of b was 1')"
   ]
  },
  {
   "cell_type": "code",
   "execution_count": 18,
   "metadata": {},
   "outputs": [],
   "source": [
    "# Creating Multiple custom exceptions\n",
    "\n",
    "# If b = 1, I want to raise an exception\n",
    "\n",
    "class DivisionByOne(Exception):  # inheriting from super-class\n",
    "    pass\n",
    "    \n",
    "# If both the Inputs are same, I want to raise an exception\n",
    "\n",
    "class InputSameAs_a(Exception):  # inheriting from super-class\n",
    "    pass"
   ]
  },
  {
   "cell_type": "code",
   "execution_count": 20,
   "metadata": {},
   "outputs": [
    {
     "name": "stdout",
     "output_type": "stream",
     "text": [
      "Enter a value for a as an Integer: 44\n",
      "Enter a value for b as an Integer: 4\n",
      "11.0\n"
     ]
    }
   ],
   "source": [
    "try:\n",
    "    a = int(input('Enter a value for a as an Integer: '))\n",
    "    b = int(input('Enter a value for b as an Integer: '))\n",
    "    \n",
    "    if b == 1:\n",
    "        raise DivisionByOne\n",
    "    elif a == b:\n",
    "        raise InputSameAs_a\n",
    "    c = a/b\n",
    "    print(c)\n",
    "    \n",
    "except DivisionByOne:\n",
    "    print('The input value of b was 1')\n",
    "    \n",
    "except InputSameAs_a:\n",
    "    print('Both th Inputs are Same')"
   ]
  },
  {
   "cell_type": "code",
   "execution_count": 21,
   "metadata": {},
   "outputs": [
    {
     "name": "stdout",
     "output_type": "stream",
     "text": [
      "Enter a value for a as an Integer: 44\n",
      "Enter a value for b as an Integer: 44\n",
      "Both th Inputs are Same\n"
     ]
    }
   ],
   "source": [
    "try:\n",
    "    a = int(input('Enter a value for a as an Integer: '))\n",
    "    b = int(input('Enter a value for b as an Integer: '))\n",
    "    \n",
    "    if b == 1:\n",
    "        raise DivisionByOne\n",
    "    elif a == b:\n",
    "        raise InputSameAs_a\n",
    "    c = a/b\n",
    "    print(c)\n",
    "    \n",
    "except DivisionByOne:\n",
    "    print('The input value of b was 1')\n",
    "    \n",
    "except InputSameAs_a:\n",
    "    print('Both th Inputs are Same')"
   ]
  },
  {
   "cell_type": "code",
   "execution_count": 45,
   "metadata": {},
   "outputs": [],
   "source": [
    "# Write an Exception such that,\n",
    "# If a and b are not having a same data type \n",
    "# It should not allow a + b type of operation\n",
    "\n",
    "a = [3, 4, 5, 6]\n",
    "\n",
    "b = '7 8 9'"
   ]
  },
  {
   "cell_type": "code",
   "execution_count": 46,
   "metadata": {},
   "outputs": [],
   "source": [
    "class str_list_Concat(Exception):\n",
    "    pass"
   ]
  },
  {
   "cell_type": "code",
   "execution_count": 47,
   "metadata": {},
   "outputs": [
    {
     "name": "stdout",
     "output_type": "stream",
     "text": [
      "Sorry!! the data types didn't matched\n"
     ]
    }
   ],
   "source": [
    "try:\n",
    "    if type(a) != type(b):\n",
    "        raise str_list_Concat\n",
    "        \n",
    "except:\n",
    "    print(\"Sorry!! the data types didn't matched\")"
   ]
  },
  {
   "cell_type": "markdown",
   "metadata": {},
   "source": [
    "# Extra"
   ]
  },
  {
   "cell_type": "code",
   "execution_count": 52,
   "metadata": {},
   "outputs": [
    {
     "name": "stdout",
     "output_type": "stream",
     "text": [
      "The entry is z\n",
      "Oops! <class 'ValueError'> occured\n",
      "Next Entry\n",
      "**************************************************\n",
      "The entry is 0\n",
      "Oops! <class 'ZeroDivisionError'> occured\n",
      "Next Entry\n",
      "**************************************************\n",
      "The entry is 7\n",
      "The reciprocal of 7 is 0.14285714285714285\n"
     ]
    }
   ],
   "source": [
    "import sys\n",
    "\n",
    "lst = ['z', 0, 7]\n",
    "\n",
    "for entry in lst:\n",
    "    try:\n",
    "        print('The entry is', entry)\n",
    "        r = 1/int(entry)\n",
    "        \n",
    "    except:\n",
    "        print('Oops!', sys.exc_info()[0], 'occured')\n",
    "        print('Next Entry')\n",
    "        print('*'*50)\n",
    "        \n",
    "print('The reciprocal of', entry, 'is', r)"
   ]
  },
  {
   "cell_type": "code",
   "execution_count": 56,
   "metadata": {},
   "outputs": [
    {
     "name": "stdout",
     "output_type": "stream",
     "text": [
      "The entry is z\n",
      "Oops! invalid literal for int() with base 10: 'z' occured\n",
      "Next Entry\n",
      "**************************************************\n",
      "The entry is 0\n",
      "Oops! division by zero occured\n",
      "Next Entry\n",
      "**************************************************\n",
      "The entry is 7\n",
      "The reciprocal of 7 is 0.14285714285714285\n"
     ]
    }
   ],
   "source": [
    "import sys\n",
    "\n",
    "lst = ['z', 0, 7]\n",
    "\n",
    "for entry in lst:\n",
    "    try:\n",
    "        print('The entry is', entry)\n",
    "        r = 1/int(entry)\n",
    "        \n",
    "    except Exception as e:\n",
    "        print('Oops!', e, 'occured')\n",
    "        print('Next Entry')\n",
    "        print('*'*50)\n",
    "        \n",
    "print('The reciprocal of', entry, 'is', r)"
   ]
  },
  {
   "cell_type": "code",
   "execution_count": 57,
   "metadata": {},
   "outputs": [
    {
     "name": "stdout",
     "output_type": "stream",
     "text": [
      "**************************************************\n",
      "The entry is z\n",
      "This is a ValueError\n",
      "**************************************************\n",
      "The entry is 0\n",
      "This is a ZeroDivisionError\n",
      "**************************************************\n",
      "The entry is 7\n",
      "The reciprocal of 7 is 0.14285714285714285\n"
     ]
    }
   ],
   "source": [
    "import sys\n",
    "\n",
    "lst = ['z', 0, 7]\n",
    "\n",
    "for entry in lst:\n",
    "    try:\n",
    "        print('*'*50)\n",
    "        print('The entry is', entry)\n",
    "        r = 1/int(entry)\n",
    "        \n",
    "    except ValueError:\n",
    "        print('This is a ValueError')\n",
    "        \n",
    "    except ZeroDivisionError:\n",
    "        print('This is a ZeroDivisionError')\n",
    "        \n",
    "    except:\n",
    "        print('Some other error')\n",
    "        \n",
    "print('The reciprocal of', entry, 'is', r) "
   ]
  },
  {
   "cell_type": "code",
   "execution_count": 67,
   "metadata": {},
   "outputs": [
    {
     "name": "stdout",
     "output_type": "stream",
     "text": [
      "Enter a Positive Integer: 11\n",
      "Great! it is indeed a Positive Number\n"
     ]
    }
   ],
   "source": [
    "try :\n",
    "    num = int(input('Enter a Positive Integer: '))\n",
    "        \n",
    "    if num == 0:\n",
    "        raise ValueError('Error:You Entered 0')\n",
    "    \n",
    "    elif num < 0:\n",
    "        raise ValueError('Error:Entered Negative Number')\n",
    "    print('Great! it is indeed a Positive Number')\n",
    "    \n",
    "except ValueError as e:\n",
    "    print(e)"
   ]
  },
  {
   "cell_type": "code",
   "execution_count": 68,
   "metadata": {},
   "outputs": [
    {
     "name": "stdout",
     "output_type": "stream",
     "text": [
      "Enter a Positive Integer: -11\n",
      "Error:Entered Negative Number\n"
     ]
    }
   ],
   "source": [
    "try :\n",
    "    num = int(input('Enter a Positive Integer: '))\n",
    "        \n",
    "    if num == 0:\n",
    "        raise ValueError('Error:You Entered 0')\n",
    "    \n",
    "    elif num < 0:\n",
    "        raise ValueError('Error:Entered Negative Number')\n",
    "    print('Great! it is indeed a Positive Number')\n",
    "    \n",
    "except ValueError as e:\n",
    "    print(e)"
   ]
  },
  {
   "cell_type": "code",
   "execution_count": 69,
   "metadata": {},
   "outputs": [
    {
     "name": "stdout",
     "output_type": "stream",
     "text": [
      "Enter a Positive Integer: 0\n",
      "Error:You Entered 0\n"
     ]
    }
   ],
   "source": [
    "try :\n",
    "    num = int(input('Enter a Positive Integer: '))\n",
    "        \n",
    "    if num == 0:\n",
    "        raise ValueError('Error:You Entered 0')\n",
    "    \n",
    "    elif num < 0:\n",
    "        raise ValueError('Error:Entered Negative Number')\n",
    "    print('Great! it is indeed a Positive Number')\n",
    "    \n",
    "except ValueError as e:\n",
    "    print(e)"
   ]
  }
 ],
 "metadata": {
  "kernelspec": {
   "display_name": "Python 3",
   "language": "python",
   "name": "python3"
  },
  "language_info": {
   "codemirror_mode": {
    "name": "ipython",
    "version": 3
   },
   "file_extension": ".py",
   "mimetype": "text/x-python",
   "name": "python",
   "nbconvert_exporter": "python",
   "pygments_lexer": "ipython3",
   "version": "3.7.6"
  }
 },
 "nbformat": 4,
 "nbformat_minor": 4
}
